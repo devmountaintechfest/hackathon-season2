{
  "nbformat": 4,
  "nbformat_minor": 0,
  "metadata": {
    "colab": {
      "provenance": [],
      "collapsed_sections": []
    },
    "kernelspec": {
      "name": "python3",
      "display_name": "Python 3"
    },
    "language_info": {
      "name": "python"
    }
  },
  "cells": [
    {
      "cell_type": "code",
      "execution_count": 4,
      "metadata": {
        "id": "pgwMjyes7ILQ"
      },
      "outputs": [],
      "source": [
        "import numpy as np\n",
        "import pandas as pd\n",
        "import matplotlib.pyplot as plt\n",
        "import seaborn as sns\n",
        "from datetime import datetime as dt"
      ]
    },
    {
      "cell_type": "code",
      "source": [
        "from google.colab import drive\n",
        "drive.mount('/content/drive')"
      ],
      "metadata": {
        "colab": {
          "base_uri": "https://localhost:8080/"
        },
        "id": "pnijMnj7_70h",
        "outputId": "124a65a7-3080-429b-8340-59bb53ed4df4"
      },
      "execution_count": 48,
      "outputs": [
        {
          "output_type": "stream",
          "name": "stdout",
          "text": [
            "Drive already mounted at /content/drive; to attempt to forcibly remount, call drive.mount(\"/content/drive\", force_remount=True).\n"
          ]
        }
      ]
    },
    {
      "cell_type": "code",
      "source": [
        "df = pd.read_csv(\"/content/drive/MyDrive/Colab Notebooks/dataDevClub/dataDevclub.csv\", \n",
        "                 names=['emp_id', 'passport', 'fname', 'lname', 'gender', 'birthdate', 'nationality', 'hired', 'dept', 'postion', 'status', 'region'])"
      ],
      "metadata": {
        "id": "ySwbYiMwATnq"
      },
      "execution_count": 64,
      "outputs": []
    },
    {
      "cell_type": "code",
      "source": [
        "df.columns"
      ],
      "metadata": {
        "colab": {
          "base_uri": "https://localhost:8080/"
        },
        "id": "tToSnQ6IB299",
        "outputId": "4ecfab43-26d8-4b7a-b703-4690e74ddf92"
      },
      "execution_count": 65,
      "outputs": [
        {
          "output_type": "execute_result",
          "data": {
            "text/plain": [
              "Index(['emp_id', 'passport', 'fname', 'lname', 'gender', 'birthdate',\n",
              "       'nationality', 'hired', 'dept', 'postion', 'status', 'region'],\n",
              "      dtype='object')"
            ]
          },
          "metadata": {},
          "execution_count": 65
        }
      ]
    },
    {
      "cell_type": "code",
      "source": [
        "df.head()"
      ],
      "metadata": {
        "colab": {
          "base_uri": "https://localhost:8080/",
          "height": 250
        },
        "id": "d-bFFl4FB0X-",
        "outputId": "49082668-973d-435f-86a9-d0340f435392"
      },
      "execution_count": 66,
      "outputs": [
        {
          "output_type": "execute_result",
          "data": {
            "text/plain": [
              "   emp_id     passport    fname      lname  gender   birthdate  nationality  \\\n",
              "0       3  JUI65YBK7AF     Jada     Bender       0  28-05-1963     Pakistan   \n",
              "1       5  AZE20CSG4MU  Lillian      Reese       0  03-12-1982      Ukraine   \n",
              "2      23  NFH65BYM0VB   Armand       Horn       0  24-05-1987  Netherlands   \n",
              "3      29  CMK62UAD3VK    Rowan    Leonard       1  15-07-1974      Germany   \n",
              "4      33  EWD45RJW5YK   Carter  Velasquez       0  23-11-1967    Indonesia   \n",
              "\n",
              "        hired                  dept     postion  status  region  \n",
              "0  11-02-2001                 Pilot       Pilot       1  Canada  \n",
              "1  19-05-2002       Flight Planning     Steward       1  Canada  \n",
              "2  19-06-2007  Aircraft Maintenance  Airhostess       1  Ocenia  \n",
              "3  27-03-2004  Aircraft Maintenance       Pilot       1  Ocenia  \n",
              "4  27-02-2005       Flight Planning       Pilot       1    APAC  "
            ],
            "text/html": [
              "\n",
              "  <div id=\"df-5bc478ae-a5ce-4baf-b266-98a2297a21c2\">\n",
              "    <div class=\"colab-df-container\">\n",
              "      <div>\n",
              "<style scoped>\n",
              "    .dataframe tbody tr th:only-of-type {\n",
              "        vertical-align: middle;\n",
              "    }\n",
              "\n",
              "    .dataframe tbody tr th {\n",
              "        vertical-align: top;\n",
              "    }\n",
              "\n",
              "    .dataframe thead th {\n",
              "        text-align: right;\n",
              "    }\n",
              "</style>\n",
              "<table border=\"1\" class=\"dataframe\">\n",
              "  <thead>\n",
              "    <tr style=\"text-align: right;\">\n",
              "      <th></th>\n",
              "      <th>emp_id</th>\n",
              "      <th>passport</th>\n",
              "      <th>fname</th>\n",
              "      <th>lname</th>\n",
              "      <th>gender</th>\n",
              "      <th>birthdate</th>\n",
              "      <th>nationality</th>\n",
              "      <th>hired</th>\n",
              "      <th>dept</th>\n",
              "      <th>postion</th>\n",
              "      <th>status</th>\n",
              "      <th>region</th>\n",
              "    </tr>\n",
              "  </thead>\n",
              "  <tbody>\n",
              "    <tr>\n",
              "      <th>0</th>\n",
              "      <td>3</td>\n",
              "      <td>JUI65YBK7AF</td>\n",
              "      <td>Jada</td>\n",
              "      <td>Bender</td>\n",
              "      <td>0</td>\n",
              "      <td>28-05-1963</td>\n",
              "      <td>Pakistan</td>\n",
              "      <td>11-02-2001</td>\n",
              "      <td>Pilot</td>\n",
              "      <td>Pilot</td>\n",
              "      <td>1</td>\n",
              "      <td>Canada</td>\n",
              "    </tr>\n",
              "    <tr>\n",
              "      <th>1</th>\n",
              "      <td>5</td>\n",
              "      <td>AZE20CSG4MU</td>\n",
              "      <td>Lillian</td>\n",
              "      <td>Reese</td>\n",
              "      <td>0</td>\n",
              "      <td>03-12-1982</td>\n",
              "      <td>Ukraine</td>\n",
              "      <td>19-05-2002</td>\n",
              "      <td>Flight Planning</td>\n",
              "      <td>Steward</td>\n",
              "      <td>1</td>\n",
              "      <td>Canada</td>\n",
              "    </tr>\n",
              "    <tr>\n",
              "      <th>2</th>\n",
              "      <td>23</td>\n",
              "      <td>NFH65BYM0VB</td>\n",
              "      <td>Armand</td>\n",
              "      <td>Horn</td>\n",
              "      <td>0</td>\n",
              "      <td>24-05-1987</td>\n",
              "      <td>Netherlands</td>\n",
              "      <td>19-06-2007</td>\n",
              "      <td>Aircraft Maintenance</td>\n",
              "      <td>Airhostess</td>\n",
              "      <td>1</td>\n",
              "      <td>Ocenia</td>\n",
              "    </tr>\n",
              "    <tr>\n",
              "      <th>3</th>\n",
              "      <td>29</td>\n",
              "      <td>CMK62UAD3VK</td>\n",
              "      <td>Rowan</td>\n",
              "      <td>Leonard</td>\n",
              "      <td>1</td>\n",
              "      <td>15-07-1974</td>\n",
              "      <td>Germany</td>\n",
              "      <td>27-03-2004</td>\n",
              "      <td>Aircraft Maintenance</td>\n",
              "      <td>Pilot</td>\n",
              "      <td>1</td>\n",
              "      <td>Ocenia</td>\n",
              "    </tr>\n",
              "    <tr>\n",
              "      <th>4</th>\n",
              "      <td>33</td>\n",
              "      <td>EWD45RJW5YK</td>\n",
              "      <td>Carter</td>\n",
              "      <td>Velasquez</td>\n",
              "      <td>0</td>\n",
              "      <td>23-11-1967</td>\n",
              "      <td>Indonesia</td>\n",
              "      <td>27-02-2005</td>\n",
              "      <td>Flight Planning</td>\n",
              "      <td>Pilot</td>\n",
              "      <td>1</td>\n",
              "      <td>APAC</td>\n",
              "    </tr>\n",
              "  </tbody>\n",
              "</table>\n",
              "</div>\n",
              "      <button class=\"colab-df-convert\" onclick=\"convertToInteractive('df-5bc478ae-a5ce-4baf-b266-98a2297a21c2')\"\n",
              "              title=\"Convert this dataframe to an interactive table.\"\n",
              "              style=\"display:none;\">\n",
              "        \n",
              "  <svg xmlns=\"http://www.w3.org/2000/svg\" height=\"24px\"viewBox=\"0 0 24 24\"\n",
              "       width=\"24px\">\n",
              "    <path d=\"M0 0h24v24H0V0z\" fill=\"none\"/>\n",
              "    <path d=\"M18.56 5.44l.94 2.06.94-2.06 2.06-.94-2.06-.94-.94-2.06-.94 2.06-2.06.94zm-11 1L8.5 8.5l.94-2.06 2.06-.94-2.06-.94L8.5 2.5l-.94 2.06-2.06.94zm10 10l.94 2.06.94-2.06 2.06-.94-2.06-.94-.94-2.06-.94 2.06-2.06.94z\"/><path d=\"M17.41 7.96l-1.37-1.37c-.4-.4-.92-.59-1.43-.59-.52 0-1.04.2-1.43.59L10.3 9.45l-7.72 7.72c-.78.78-.78 2.05 0 2.83L4 21.41c.39.39.9.59 1.41.59.51 0 1.02-.2 1.41-.59l7.78-7.78 2.81-2.81c.8-.78.8-2.07 0-2.86zM5.41 20L4 18.59l7.72-7.72 1.47 1.35L5.41 20z\"/>\n",
              "  </svg>\n",
              "      </button>\n",
              "      \n",
              "  <style>\n",
              "    .colab-df-container {\n",
              "      display:flex;\n",
              "      flex-wrap:wrap;\n",
              "      gap: 12px;\n",
              "    }\n",
              "\n",
              "    .colab-df-convert {\n",
              "      background-color: #E8F0FE;\n",
              "      border: none;\n",
              "      border-radius: 50%;\n",
              "      cursor: pointer;\n",
              "      display: none;\n",
              "      fill: #1967D2;\n",
              "      height: 32px;\n",
              "      padding: 0 0 0 0;\n",
              "      width: 32px;\n",
              "    }\n",
              "\n",
              "    .colab-df-convert:hover {\n",
              "      background-color: #E2EBFA;\n",
              "      box-shadow: 0px 1px 2px rgba(60, 64, 67, 0.3), 0px 1px 3px 1px rgba(60, 64, 67, 0.15);\n",
              "      fill: #174EA6;\n",
              "    }\n",
              "\n",
              "    [theme=dark] .colab-df-convert {\n",
              "      background-color: #3B4455;\n",
              "      fill: #D2E3FC;\n",
              "    }\n",
              "\n",
              "    [theme=dark] .colab-df-convert:hover {\n",
              "      background-color: #434B5C;\n",
              "      box-shadow: 0px 1px 3px 1px rgba(0, 0, 0, 0.15);\n",
              "      filter: drop-shadow(0px 1px 2px rgba(0, 0, 0, 0.3));\n",
              "      fill: #FFFFFF;\n",
              "    }\n",
              "  </style>\n",
              "\n",
              "      <script>\n",
              "        const buttonEl =\n",
              "          document.querySelector('#df-5bc478ae-a5ce-4baf-b266-98a2297a21c2 button.colab-df-convert');\n",
              "        buttonEl.style.display =\n",
              "          google.colab.kernel.accessAllowed ? 'block' : 'none';\n",
              "\n",
              "        async function convertToInteractive(key) {\n",
              "          const element = document.querySelector('#df-5bc478ae-a5ce-4baf-b266-98a2297a21c2');\n",
              "          const dataTable =\n",
              "            await google.colab.kernel.invokeFunction('convertToInteractive',\n",
              "                                                     [key], {});\n",
              "          if (!dataTable) return;\n",
              "\n",
              "          const docLinkHtml = 'Like what you see? Visit the ' +\n",
              "            '<a target=\"_blank\" href=https://colab.research.google.com/notebooks/data_table.ipynb>data table notebook</a>'\n",
              "            + ' to learn more about interactive tables.';\n",
              "          element.innerHTML = '';\n",
              "          dataTable['output_type'] = 'display_data';\n",
              "          await google.colab.output.renderOutput(dataTable, element);\n",
              "          const docLink = document.createElement('div');\n",
              "          docLink.innerHTML = docLinkHtml;\n",
              "          element.appendChild(docLink);\n",
              "        }\n",
              "      </script>\n",
              "    </div>\n",
              "  </div>\n",
              "  "
            ]
          },
          "metadata": {},
          "execution_count": 66
        }
      ]
    },
    {
      "cell_type": "markdown",
      "source": [
        "## Add and Chage data into dataframe"
      ],
      "metadata": {
        "id": "K0VkxL7wGkek"
      }
    },
    {
      "cell_type": "markdown",
      "source": [
        "### Tranform gender into \"Male\" or \"Female\""
      ],
      "metadata": {
        "id": "HWyY2DMxGrkr"
      }
    },
    {
      "cell_type": "code",
      "source": [
        "arr = []\n",
        "for gender in df['gender'].to_numpy():\n",
        "  if gender == 0: arr.append('Male')\n",
        "  else: arr.append('Female')\n",
        "  \n",
        "# Chang data 0,1 into Male, Female\n",
        "df['gender'] = arr"
      ],
      "metadata": {
        "id": "_qgBCbNhC57V"
      },
      "execution_count": 67,
      "outputs": []
    },
    {
      "cell_type": "code",
      "source": [
        "df.head()"
      ],
      "metadata": {
        "colab": {
          "base_uri": "https://localhost:8080/",
          "height": 250
        },
        "id": "xk5i8GdUEyVr",
        "outputId": "e2afb8d1-ca6c-47dd-d40d-ecd5af33c5ae"
      },
      "execution_count": 68,
      "outputs": [
        {
          "output_type": "execute_result",
          "data": {
            "text/plain": [
              "   emp_id     passport    fname      lname  gender   birthdate  nationality  \\\n",
              "0       3  JUI65YBK7AF     Jada     Bender    Male  28-05-1963     Pakistan   \n",
              "1       5  AZE20CSG4MU  Lillian      Reese    Male  03-12-1982      Ukraine   \n",
              "2      23  NFH65BYM0VB   Armand       Horn    Male  24-05-1987  Netherlands   \n",
              "3      29  CMK62UAD3VK    Rowan    Leonard  Female  15-07-1974      Germany   \n",
              "4      33  EWD45RJW5YK   Carter  Velasquez    Male  23-11-1967    Indonesia   \n",
              "\n",
              "        hired                  dept     postion  status  region  \n",
              "0  11-02-2001                 Pilot       Pilot       1  Canada  \n",
              "1  19-05-2002       Flight Planning     Steward       1  Canada  \n",
              "2  19-06-2007  Aircraft Maintenance  Airhostess       1  Ocenia  \n",
              "3  27-03-2004  Aircraft Maintenance       Pilot       1  Ocenia  \n",
              "4  27-02-2005       Flight Planning       Pilot       1    APAC  "
            ],
            "text/html": [
              "\n",
              "  <div id=\"df-3114be88-93a5-4991-9ba6-0e610bb58baf\">\n",
              "    <div class=\"colab-df-container\">\n",
              "      <div>\n",
              "<style scoped>\n",
              "    .dataframe tbody tr th:only-of-type {\n",
              "        vertical-align: middle;\n",
              "    }\n",
              "\n",
              "    .dataframe tbody tr th {\n",
              "        vertical-align: top;\n",
              "    }\n",
              "\n",
              "    .dataframe thead th {\n",
              "        text-align: right;\n",
              "    }\n",
              "</style>\n",
              "<table border=\"1\" class=\"dataframe\">\n",
              "  <thead>\n",
              "    <tr style=\"text-align: right;\">\n",
              "      <th></th>\n",
              "      <th>emp_id</th>\n",
              "      <th>passport</th>\n",
              "      <th>fname</th>\n",
              "      <th>lname</th>\n",
              "      <th>gender</th>\n",
              "      <th>birthdate</th>\n",
              "      <th>nationality</th>\n",
              "      <th>hired</th>\n",
              "      <th>dept</th>\n",
              "      <th>postion</th>\n",
              "      <th>status</th>\n",
              "      <th>region</th>\n",
              "    </tr>\n",
              "  </thead>\n",
              "  <tbody>\n",
              "    <tr>\n",
              "      <th>0</th>\n",
              "      <td>3</td>\n",
              "      <td>JUI65YBK7AF</td>\n",
              "      <td>Jada</td>\n",
              "      <td>Bender</td>\n",
              "      <td>Male</td>\n",
              "      <td>28-05-1963</td>\n",
              "      <td>Pakistan</td>\n",
              "      <td>11-02-2001</td>\n",
              "      <td>Pilot</td>\n",
              "      <td>Pilot</td>\n",
              "      <td>1</td>\n",
              "      <td>Canada</td>\n",
              "    </tr>\n",
              "    <tr>\n",
              "      <th>1</th>\n",
              "      <td>5</td>\n",
              "      <td>AZE20CSG4MU</td>\n",
              "      <td>Lillian</td>\n",
              "      <td>Reese</td>\n",
              "      <td>Male</td>\n",
              "      <td>03-12-1982</td>\n",
              "      <td>Ukraine</td>\n",
              "      <td>19-05-2002</td>\n",
              "      <td>Flight Planning</td>\n",
              "      <td>Steward</td>\n",
              "      <td>1</td>\n",
              "      <td>Canada</td>\n",
              "    </tr>\n",
              "    <tr>\n",
              "      <th>2</th>\n",
              "      <td>23</td>\n",
              "      <td>NFH65BYM0VB</td>\n",
              "      <td>Armand</td>\n",
              "      <td>Horn</td>\n",
              "      <td>Male</td>\n",
              "      <td>24-05-1987</td>\n",
              "      <td>Netherlands</td>\n",
              "      <td>19-06-2007</td>\n",
              "      <td>Aircraft Maintenance</td>\n",
              "      <td>Airhostess</td>\n",
              "      <td>1</td>\n",
              "      <td>Ocenia</td>\n",
              "    </tr>\n",
              "    <tr>\n",
              "      <th>3</th>\n",
              "      <td>29</td>\n",
              "      <td>CMK62UAD3VK</td>\n",
              "      <td>Rowan</td>\n",
              "      <td>Leonard</td>\n",
              "      <td>Female</td>\n",
              "      <td>15-07-1974</td>\n",
              "      <td>Germany</td>\n",
              "      <td>27-03-2004</td>\n",
              "      <td>Aircraft Maintenance</td>\n",
              "      <td>Pilot</td>\n",
              "      <td>1</td>\n",
              "      <td>Ocenia</td>\n",
              "    </tr>\n",
              "    <tr>\n",
              "      <th>4</th>\n",
              "      <td>33</td>\n",
              "      <td>EWD45RJW5YK</td>\n",
              "      <td>Carter</td>\n",
              "      <td>Velasquez</td>\n",
              "      <td>Male</td>\n",
              "      <td>23-11-1967</td>\n",
              "      <td>Indonesia</td>\n",
              "      <td>27-02-2005</td>\n",
              "      <td>Flight Planning</td>\n",
              "      <td>Pilot</td>\n",
              "      <td>1</td>\n",
              "      <td>APAC</td>\n",
              "    </tr>\n",
              "  </tbody>\n",
              "</table>\n",
              "</div>\n",
              "      <button class=\"colab-df-convert\" onclick=\"convertToInteractive('df-3114be88-93a5-4991-9ba6-0e610bb58baf')\"\n",
              "              title=\"Convert this dataframe to an interactive table.\"\n",
              "              style=\"display:none;\">\n",
              "        \n",
              "  <svg xmlns=\"http://www.w3.org/2000/svg\" height=\"24px\"viewBox=\"0 0 24 24\"\n",
              "       width=\"24px\">\n",
              "    <path d=\"M0 0h24v24H0V0z\" fill=\"none\"/>\n",
              "    <path d=\"M18.56 5.44l.94 2.06.94-2.06 2.06-.94-2.06-.94-.94-2.06-.94 2.06-2.06.94zm-11 1L8.5 8.5l.94-2.06 2.06-.94-2.06-.94L8.5 2.5l-.94 2.06-2.06.94zm10 10l.94 2.06.94-2.06 2.06-.94-2.06-.94-.94-2.06-.94 2.06-2.06.94z\"/><path d=\"M17.41 7.96l-1.37-1.37c-.4-.4-.92-.59-1.43-.59-.52 0-1.04.2-1.43.59L10.3 9.45l-7.72 7.72c-.78.78-.78 2.05 0 2.83L4 21.41c.39.39.9.59 1.41.59.51 0 1.02-.2 1.41-.59l7.78-7.78 2.81-2.81c.8-.78.8-2.07 0-2.86zM5.41 20L4 18.59l7.72-7.72 1.47 1.35L5.41 20z\"/>\n",
              "  </svg>\n",
              "      </button>\n",
              "      \n",
              "  <style>\n",
              "    .colab-df-container {\n",
              "      display:flex;\n",
              "      flex-wrap:wrap;\n",
              "      gap: 12px;\n",
              "    }\n",
              "\n",
              "    .colab-df-convert {\n",
              "      background-color: #E8F0FE;\n",
              "      border: none;\n",
              "      border-radius: 50%;\n",
              "      cursor: pointer;\n",
              "      display: none;\n",
              "      fill: #1967D2;\n",
              "      height: 32px;\n",
              "      padding: 0 0 0 0;\n",
              "      width: 32px;\n",
              "    }\n",
              "\n",
              "    .colab-df-convert:hover {\n",
              "      background-color: #E2EBFA;\n",
              "      box-shadow: 0px 1px 2px rgba(60, 64, 67, 0.3), 0px 1px 3px 1px rgba(60, 64, 67, 0.15);\n",
              "      fill: #174EA6;\n",
              "    }\n",
              "\n",
              "    [theme=dark] .colab-df-convert {\n",
              "      background-color: #3B4455;\n",
              "      fill: #D2E3FC;\n",
              "    }\n",
              "\n",
              "    [theme=dark] .colab-df-convert:hover {\n",
              "      background-color: #434B5C;\n",
              "      box-shadow: 0px 1px 3px 1px rgba(0, 0, 0, 0.15);\n",
              "      filter: drop-shadow(0px 1px 2px rgba(0, 0, 0, 0.3));\n",
              "      fill: #FFFFFF;\n",
              "    }\n",
              "  </style>\n",
              "\n",
              "      <script>\n",
              "        const buttonEl =\n",
              "          document.querySelector('#df-3114be88-93a5-4991-9ba6-0e610bb58baf button.colab-df-convert');\n",
              "        buttonEl.style.display =\n",
              "          google.colab.kernel.accessAllowed ? 'block' : 'none';\n",
              "\n",
              "        async function convertToInteractive(key) {\n",
              "          const element = document.querySelector('#df-3114be88-93a5-4991-9ba6-0e610bb58baf');\n",
              "          const dataTable =\n",
              "            await google.colab.kernel.invokeFunction('convertToInteractive',\n",
              "                                                     [key], {});\n",
              "          if (!dataTable) return;\n",
              "\n",
              "          const docLinkHtml = 'Like what you see? Visit the ' +\n",
              "            '<a target=\"_blank\" href=https://colab.research.google.com/notebooks/data_table.ipynb>data table notebook</a>'\n",
              "            + ' to learn more about interactive tables.';\n",
              "          element.innerHTML = '';\n",
              "          dataTable['output_type'] = 'display_data';\n",
              "          await google.colab.output.renderOutput(dataTable, element);\n",
              "          const docLink = document.createElement('div');\n",
              "          docLink.innerHTML = docLinkHtml;\n",
              "          element.appendChild(docLink);\n",
              "        }\n",
              "      </script>\n",
              "    </div>\n",
              "  </div>\n",
              "  "
            ]
          },
          "metadata": {},
          "execution_count": 68
        }
      ]
    },
    {
      "cell_type": "markdown",
      "source": [
        "### Add age column"
      ],
      "metadata": {
        "id": "SVPI6D3FG8hu"
      }
    },
    {
      "cell_type": "code",
      "source": [
        "arr = []\n",
        "\n",
        "for el in np.asarray(df['birthdate']):\n",
        "  year_birth = int(el.split('-')[-1])\n",
        "  arr.append(int(dt.now().year) - year_birth)\n",
        "\n",
        "df['age'] = arr"
      ],
      "metadata": {
        "id": "VoPv0zq4HAUC"
      },
      "execution_count": 97,
      "outputs": []
    },
    {
      "cell_type": "code",
      "source": [
        "df.head()"
      ],
      "metadata": {
        "colab": {
          "base_uri": "https://localhost:8080/",
          "height": 337
        },
        "id": "uQWfzsyxLefX",
        "outputId": "1827783a-b8be-4d96-e02b-74fe75fa94ae"
      },
      "execution_count": 98,
      "outputs": [
        {
          "output_type": "execute_result",
          "data": {
            "text/plain": [
              "   emp_id     passport    fname      lname  gender   birthdate  nationality  \\\n",
              "0       3  JUI65YBK7AF     Jada     Bender    Male  28-05-1963     Pakistan   \n",
              "1       5  AZE20CSG4MU  Lillian      Reese    Male  03-12-1982      Ukraine   \n",
              "2      23  NFH65BYM0VB   Armand       Horn    Male  24-05-1987  Netherlands   \n",
              "3      29  CMK62UAD3VK    Rowan    Leonard  Female  15-07-1974      Germany   \n",
              "4      33  EWD45RJW5YK   Carter  Velasquez    Male  23-11-1967    Indonesia   \n",
              "\n",
              "        hired                  dept     postion  status  region  age  \n",
              "0  11-02-2001                 Pilot       Pilot       1  Canada   59  \n",
              "1  19-05-2002       Flight Planning     Steward       1  Canada   40  \n",
              "2  19-06-2007  Aircraft Maintenance  Airhostess       1  Ocenia   35  \n",
              "3  27-03-2004  Aircraft Maintenance       Pilot       1  Ocenia   48  \n",
              "4  27-02-2005       Flight Planning       Pilot       1    APAC   55  "
            ],
            "text/html": [
              "\n",
              "  <div id=\"df-3491823a-d082-4029-8a98-6cface83d238\">\n",
              "    <div class=\"colab-df-container\">\n",
              "      <div>\n",
              "<style scoped>\n",
              "    .dataframe tbody tr th:only-of-type {\n",
              "        vertical-align: middle;\n",
              "    }\n",
              "\n",
              "    .dataframe tbody tr th {\n",
              "        vertical-align: top;\n",
              "    }\n",
              "\n",
              "    .dataframe thead th {\n",
              "        text-align: right;\n",
              "    }\n",
              "</style>\n",
              "<table border=\"1\" class=\"dataframe\">\n",
              "  <thead>\n",
              "    <tr style=\"text-align: right;\">\n",
              "      <th></th>\n",
              "      <th>emp_id</th>\n",
              "      <th>passport</th>\n",
              "      <th>fname</th>\n",
              "      <th>lname</th>\n",
              "      <th>gender</th>\n",
              "      <th>birthdate</th>\n",
              "      <th>nationality</th>\n",
              "      <th>hired</th>\n",
              "      <th>dept</th>\n",
              "      <th>postion</th>\n",
              "      <th>status</th>\n",
              "      <th>region</th>\n",
              "      <th>age</th>\n",
              "    </tr>\n",
              "  </thead>\n",
              "  <tbody>\n",
              "    <tr>\n",
              "      <th>0</th>\n",
              "      <td>3</td>\n",
              "      <td>JUI65YBK7AF</td>\n",
              "      <td>Jada</td>\n",
              "      <td>Bender</td>\n",
              "      <td>Male</td>\n",
              "      <td>28-05-1963</td>\n",
              "      <td>Pakistan</td>\n",
              "      <td>11-02-2001</td>\n",
              "      <td>Pilot</td>\n",
              "      <td>Pilot</td>\n",
              "      <td>1</td>\n",
              "      <td>Canada</td>\n",
              "      <td>59</td>\n",
              "    </tr>\n",
              "    <tr>\n",
              "      <th>1</th>\n",
              "      <td>5</td>\n",
              "      <td>AZE20CSG4MU</td>\n",
              "      <td>Lillian</td>\n",
              "      <td>Reese</td>\n",
              "      <td>Male</td>\n",
              "      <td>03-12-1982</td>\n",
              "      <td>Ukraine</td>\n",
              "      <td>19-05-2002</td>\n",
              "      <td>Flight Planning</td>\n",
              "      <td>Steward</td>\n",
              "      <td>1</td>\n",
              "      <td>Canada</td>\n",
              "      <td>40</td>\n",
              "    </tr>\n",
              "    <tr>\n",
              "      <th>2</th>\n",
              "      <td>23</td>\n",
              "      <td>NFH65BYM0VB</td>\n",
              "      <td>Armand</td>\n",
              "      <td>Horn</td>\n",
              "      <td>Male</td>\n",
              "      <td>24-05-1987</td>\n",
              "      <td>Netherlands</td>\n",
              "      <td>19-06-2007</td>\n",
              "      <td>Aircraft Maintenance</td>\n",
              "      <td>Airhostess</td>\n",
              "      <td>1</td>\n",
              "      <td>Ocenia</td>\n",
              "      <td>35</td>\n",
              "    </tr>\n",
              "    <tr>\n",
              "      <th>3</th>\n",
              "      <td>29</td>\n",
              "      <td>CMK62UAD3VK</td>\n",
              "      <td>Rowan</td>\n",
              "      <td>Leonard</td>\n",
              "      <td>Female</td>\n",
              "      <td>15-07-1974</td>\n",
              "      <td>Germany</td>\n",
              "      <td>27-03-2004</td>\n",
              "      <td>Aircraft Maintenance</td>\n",
              "      <td>Pilot</td>\n",
              "      <td>1</td>\n",
              "      <td>Ocenia</td>\n",
              "      <td>48</td>\n",
              "    </tr>\n",
              "    <tr>\n",
              "      <th>4</th>\n",
              "      <td>33</td>\n",
              "      <td>EWD45RJW5YK</td>\n",
              "      <td>Carter</td>\n",
              "      <td>Velasquez</td>\n",
              "      <td>Male</td>\n",
              "      <td>23-11-1967</td>\n",
              "      <td>Indonesia</td>\n",
              "      <td>27-02-2005</td>\n",
              "      <td>Flight Planning</td>\n",
              "      <td>Pilot</td>\n",
              "      <td>1</td>\n",
              "      <td>APAC</td>\n",
              "      <td>55</td>\n",
              "    </tr>\n",
              "  </tbody>\n",
              "</table>\n",
              "</div>\n",
              "      <button class=\"colab-df-convert\" onclick=\"convertToInteractive('df-3491823a-d082-4029-8a98-6cface83d238')\"\n",
              "              title=\"Convert this dataframe to an interactive table.\"\n",
              "              style=\"display:none;\">\n",
              "        \n",
              "  <svg xmlns=\"http://www.w3.org/2000/svg\" height=\"24px\"viewBox=\"0 0 24 24\"\n",
              "       width=\"24px\">\n",
              "    <path d=\"M0 0h24v24H0V0z\" fill=\"none\"/>\n",
              "    <path d=\"M18.56 5.44l.94 2.06.94-2.06 2.06-.94-2.06-.94-.94-2.06-.94 2.06-2.06.94zm-11 1L8.5 8.5l.94-2.06 2.06-.94-2.06-.94L8.5 2.5l-.94 2.06-2.06.94zm10 10l.94 2.06.94-2.06 2.06-.94-2.06-.94-.94-2.06-.94 2.06-2.06.94z\"/><path d=\"M17.41 7.96l-1.37-1.37c-.4-.4-.92-.59-1.43-.59-.52 0-1.04.2-1.43.59L10.3 9.45l-7.72 7.72c-.78.78-.78 2.05 0 2.83L4 21.41c.39.39.9.59 1.41.59.51 0 1.02-.2 1.41-.59l7.78-7.78 2.81-2.81c.8-.78.8-2.07 0-2.86zM5.41 20L4 18.59l7.72-7.72 1.47 1.35L5.41 20z\"/>\n",
              "  </svg>\n",
              "      </button>\n",
              "      \n",
              "  <style>\n",
              "    .colab-df-container {\n",
              "      display:flex;\n",
              "      flex-wrap:wrap;\n",
              "      gap: 12px;\n",
              "    }\n",
              "\n",
              "    .colab-df-convert {\n",
              "      background-color: #E8F0FE;\n",
              "      border: none;\n",
              "      border-radius: 50%;\n",
              "      cursor: pointer;\n",
              "      display: none;\n",
              "      fill: #1967D2;\n",
              "      height: 32px;\n",
              "      padding: 0 0 0 0;\n",
              "      width: 32px;\n",
              "    }\n",
              "\n",
              "    .colab-df-convert:hover {\n",
              "      background-color: #E2EBFA;\n",
              "      box-shadow: 0px 1px 2px rgba(60, 64, 67, 0.3), 0px 1px 3px 1px rgba(60, 64, 67, 0.15);\n",
              "      fill: #174EA6;\n",
              "    }\n",
              "\n",
              "    [theme=dark] .colab-df-convert {\n",
              "      background-color: #3B4455;\n",
              "      fill: #D2E3FC;\n",
              "    }\n",
              "\n",
              "    [theme=dark] .colab-df-convert:hover {\n",
              "      background-color: #434B5C;\n",
              "      box-shadow: 0px 1px 3px 1px rgba(0, 0, 0, 0.15);\n",
              "      filter: drop-shadow(0px 1px 2px rgba(0, 0, 0, 0.3));\n",
              "      fill: #FFFFFF;\n",
              "    }\n",
              "  </style>\n",
              "\n",
              "      <script>\n",
              "        const buttonEl =\n",
              "          document.querySelector('#df-3491823a-d082-4029-8a98-6cface83d238 button.colab-df-convert');\n",
              "        buttonEl.style.display =\n",
              "          google.colab.kernel.accessAllowed ? 'block' : 'none';\n",
              "\n",
              "        async function convertToInteractive(key) {\n",
              "          const element = document.querySelector('#df-3491823a-d082-4029-8a98-6cface83d238');\n",
              "          const dataTable =\n",
              "            await google.colab.kernel.invokeFunction('convertToInteractive',\n",
              "                                                     [key], {});\n",
              "          if (!dataTable) return;\n",
              "\n",
              "          const docLinkHtml = 'Like what you see? Visit the ' +\n",
              "            '<a target=\"_blank\" href=https://colab.research.google.com/notebooks/data_table.ipynb>data table notebook</a>'\n",
              "            + ' to learn more about interactive tables.';\n",
              "          element.innerHTML = '';\n",
              "          dataTable['output_type'] = 'display_data';\n",
              "          await google.colab.output.renderOutput(dataTable, element);\n",
              "          const docLink = document.createElement('div');\n",
              "          docLink.innerHTML = docLinkHtml;\n",
              "          element.appendChild(docLink);\n",
              "        }\n",
              "      </script>\n",
              "    </div>\n",
              "  </div>\n",
              "  "
            ]
          },
          "metadata": {},
          "execution_count": 98
        }
      ]
    },
    {
      "cell_type": "markdown",
      "source": [
        "### Add hired year"
      ],
      "metadata": {
        "id": "fYjJtpYQLlIr"
      }
    },
    {
      "cell_type": "code",
      "source": [
        "arr = []\n",
        "\n",
        "for el in np.asarray(df['hired']):\n",
        "  year = int(el.split('-')[-1])\n",
        "  arr.append(year)\n",
        "\n",
        "df['hired_year'] = arr"
      ],
      "metadata": {
        "id": "bqV2KaSbLpra"
      },
      "execution_count": 100,
      "outputs": []
    },
    {
      "cell_type": "code",
      "source": [
        "df.head()"
      ],
      "metadata": {
        "colab": {
          "base_uri": "https://localhost:8080/",
          "height": 357
        },
        "id": "qxJKbbZ4MEbl",
        "outputId": "9ccab1e9-f548-406b-cbd5-bfce08ea6de2"
      },
      "execution_count": 101,
      "outputs": [
        {
          "output_type": "execute_result",
          "data": {
            "text/plain": [
              "   emp_id     passport    fname      lname  gender   birthdate  nationality  \\\n",
              "0       3  JUI65YBK7AF     Jada     Bender    Male  28-05-1963     Pakistan   \n",
              "1       5  AZE20CSG4MU  Lillian      Reese    Male  03-12-1982      Ukraine   \n",
              "2      23  NFH65BYM0VB   Armand       Horn    Male  24-05-1987  Netherlands   \n",
              "3      29  CMK62UAD3VK    Rowan    Leonard  Female  15-07-1974      Germany   \n",
              "4      33  EWD45RJW5YK   Carter  Velasquez    Male  23-11-1967    Indonesia   \n",
              "\n",
              "        hired                  dept     postion  status  region  age  \\\n",
              "0  11-02-2001                 Pilot       Pilot       1  Canada   59   \n",
              "1  19-05-2002       Flight Planning     Steward       1  Canada   40   \n",
              "2  19-06-2007  Aircraft Maintenance  Airhostess       1  Ocenia   35   \n",
              "3  27-03-2004  Aircraft Maintenance       Pilot       1  Ocenia   48   \n",
              "4  27-02-2005       Flight Planning       Pilot       1    APAC   55   \n",
              "\n",
              "   hired_year  \n",
              "0        2001  \n",
              "1        2002  \n",
              "2        2007  \n",
              "3        2004  \n",
              "4        2005  "
            ],
            "text/html": [
              "\n",
              "  <div id=\"df-e0c602d6-3ad3-47d3-a11c-1c89225a574e\">\n",
              "    <div class=\"colab-df-container\">\n",
              "      <div>\n",
              "<style scoped>\n",
              "    .dataframe tbody tr th:only-of-type {\n",
              "        vertical-align: middle;\n",
              "    }\n",
              "\n",
              "    .dataframe tbody tr th {\n",
              "        vertical-align: top;\n",
              "    }\n",
              "\n",
              "    .dataframe thead th {\n",
              "        text-align: right;\n",
              "    }\n",
              "</style>\n",
              "<table border=\"1\" class=\"dataframe\">\n",
              "  <thead>\n",
              "    <tr style=\"text-align: right;\">\n",
              "      <th></th>\n",
              "      <th>emp_id</th>\n",
              "      <th>passport</th>\n",
              "      <th>fname</th>\n",
              "      <th>lname</th>\n",
              "      <th>gender</th>\n",
              "      <th>birthdate</th>\n",
              "      <th>nationality</th>\n",
              "      <th>hired</th>\n",
              "      <th>dept</th>\n",
              "      <th>postion</th>\n",
              "      <th>status</th>\n",
              "      <th>region</th>\n",
              "      <th>age</th>\n",
              "      <th>hired_year</th>\n",
              "    </tr>\n",
              "  </thead>\n",
              "  <tbody>\n",
              "    <tr>\n",
              "      <th>0</th>\n",
              "      <td>3</td>\n",
              "      <td>JUI65YBK7AF</td>\n",
              "      <td>Jada</td>\n",
              "      <td>Bender</td>\n",
              "      <td>Male</td>\n",
              "      <td>28-05-1963</td>\n",
              "      <td>Pakistan</td>\n",
              "      <td>11-02-2001</td>\n",
              "      <td>Pilot</td>\n",
              "      <td>Pilot</td>\n",
              "      <td>1</td>\n",
              "      <td>Canada</td>\n",
              "      <td>59</td>\n",
              "      <td>2001</td>\n",
              "    </tr>\n",
              "    <tr>\n",
              "      <th>1</th>\n",
              "      <td>5</td>\n",
              "      <td>AZE20CSG4MU</td>\n",
              "      <td>Lillian</td>\n",
              "      <td>Reese</td>\n",
              "      <td>Male</td>\n",
              "      <td>03-12-1982</td>\n",
              "      <td>Ukraine</td>\n",
              "      <td>19-05-2002</td>\n",
              "      <td>Flight Planning</td>\n",
              "      <td>Steward</td>\n",
              "      <td>1</td>\n",
              "      <td>Canada</td>\n",
              "      <td>40</td>\n",
              "      <td>2002</td>\n",
              "    </tr>\n",
              "    <tr>\n",
              "      <th>2</th>\n",
              "      <td>23</td>\n",
              "      <td>NFH65BYM0VB</td>\n",
              "      <td>Armand</td>\n",
              "      <td>Horn</td>\n",
              "      <td>Male</td>\n",
              "      <td>24-05-1987</td>\n",
              "      <td>Netherlands</td>\n",
              "      <td>19-06-2007</td>\n",
              "      <td>Aircraft Maintenance</td>\n",
              "      <td>Airhostess</td>\n",
              "      <td>1</td>\n",
              "      <td>Ocenia</td>\n",
              "      <td>35</td>\n",
              "      <td>2007</td>\n",
              "    </tr>\n",
              "    <tr>\n",
              "      <th>3</th>\n",
              "      <td>29</td>\n",
              "      <td>CMK62UAD3VK</td>\n",
              "      <td>Rowan</td>\n",
              "      <td>Leonard</td>\n",
              "      <td>Female</td>\n",
              "      <td>15-07-1974</td>\n",
              "      <td>Germany</td>\n",
              "      <td>27-03-2004</td>\n",
              "      <td>Aircraft Maintenance</td>\n",
              "      <td>Pilot</td>\n",
              "      <td>1</td>\n",
              "      <td>Ocenia</td>\n",
              "      <td>48</td>\n",
              "      <td>2004</td>\n",
              "    </tr>\n",
              "    <tr>\n",
              "      <th>4</th>\n",
              "      <td>33</td>\n",
              "      <td>EWD45RJW5YK</td>\n",
              "      <td>Carter</td>\n",
              "      <td>Velasquez</td>\n",
              "      <td>Male</td>\n",
              "      <td>23-11-1967</td>\n",
              "      <td>Indonesia</td>\n",
              "      <td>27-02-2005</td>\n",
              "      <td>Flight Planning</td>\n",
              "      <td>Pilot</td>\n",
              "      <td>1</td>\n",
              "      <td>APAC</td>\n",
              "      <td>55</td>\n",
              "      <td>2005</td>\n",
              "    </tr>\n",
              "  </tbody>\n",
              "</table>\n",
              "</div>\n",
              "      <button class=\"colab-df-convert\" onclick=\"convertToInteractive('df-e0c602d6-3ad3-47d3-a11c-1c89225a574e')\"\n",
              "              title=\"Convert this dataframe to an interactive table.\"\n",
              "              style=\"display:none;\">\n",
              "        \n",
              "  <svg xmlns=\"http://www.w3.org/2000/svg\" height=\"24px\"viewBox=\"0 0 24 24\"\n",
              "       width=\"24px\">\n",
              "    <path d=\"M0 0h24v24H0V0z\" fill=\"none\"/>\n",
              "    <path d=\"M18.56 5.44l.94 2.06.94-2.06 2.06-.94-2.06-.94-.94-2.06-.94 2.06-2.06.94zm-11 1L8.5 8.5l.94-2.06 2.06-.94-2.06-.94L8.5 2.5l-.94 2.06-2.06.94zm10 10l.94 2.06.94-2.06 2.06-.94-2.06-.94-.94-2.06-.94 2.06-2.06.94z\"/><path d=\"M17.41 7.96l-1.37-1.37c-.4-.4-.92-.59-1.43-.59-.52 0-1.04.2-1.43.59L10.3 9.45l-7.72 7.72c-.78.78-.78 2.05 0 2.83L4 21.41c.39.39.9.59 1.41.59.51 0 1.02-.2 1.41-.59l7.78-7.78 2.81-2.81c.8-.78.8-2.07 0-2.86zM5.41 20L4 18.59l7.72-7.72 1.47 1.35L5.41 20z\"/>\n",
              "  </svg>\n",
              "      </button>\n",
              "      \n",
              "  <style>\n",
              "    .colab-df-container {\n",
              "      display:flex;\n",
              "      flex-wrap:wrap;\n",
              "      gap: 12px;\n",
              "    }\n",
              "\n",
              "    .colab-df-convert {\n",
              "      background-color: #E8F0FE;\n",
              "      border: none;\n",
              "      border-radius: 50%;\n",
              "      cursor: pointer;\n",
              "      display: none;\n",
              "      fill: #1967D2;\n",
              "      height: 32px;\n",
              "      padding: 0 0 0 0;\n",
              "      width: 32px;\n",
              "    }\n",
              "\n",
              "    .colab-df-convert:hover {\n",
              "      background-color: #E2EBFA;\n",
              "      box-shadow: 0px 1px 2px rgba(60, 64, 67, 0.3), 0px 1px 3px 1px rgba(60, 64, 67, 0.15);\n",
              "      fill: #174EA6;\n",
              "    }\n",
              "\n",
              "    [theme=dark] .colab-df-convert {\n",
              "      background-color: #3B4455;\n",
              "      fill: #D2E3FC;\n",
              "    }\n",
              "\n",
              "    [theme=dark] .colab-df-convert:hover {\n",
              "      background-color: #434B5C;\n",
              "      box-shadow: 0px 1px 3px 1px rgba(0, 0, 0, 0.15);\n",
              "      filter: drop-shadow(0px 1px 2px rgba(0, 0, 0, 0.3));\n",
              "      fill: #FFFFFF;\n",
              "    }\n",
              "  </style>\n",
              "\n",
              "      <script>\n",
              "        const buttonEl =\n",
              "          document.querySelector('#df-e0c602d6-3ad3-47d3-a11c-1c89225a574e button.colab-df-convert');\n",
              "        buttonEl.style.display =\n",
              "          google.colab.kernel.accessAllowed ? 'block' : 'none';\n",
              "\n",
              "        async function convertToInteractive(key) {\n",
              "          const element = document.querySelector('#df-e0c602d6-3ad3-47d3-a11c-1c89225a574e');\n",
              "          const dataTable =\n",
              "            await google.colab.kernel.invokeFunction('convertToInteractive',\n",
              "                                                     [key], {});\n",
              "          if (!dataTable) return;\n",
              "\n",
              "          const docLinkHtml = 'Like what you see? Visit the ' +\n",
              "            '<a target=\"_blank\" href=https://colab.research.google.com/notebooks/data_table.ipynb>data table notebook</a>'\n",
              "            + ' to learn more about interactive tables.';\n",
              "          element.innerHTML = '';\n",
              "          dataTable['output_type'] = 'display_data';\n",
              "          await google.colab.output.renderOutput(dataTable, element);\n",
              "          const docLink = document.createElement('div');\n",
              "          docLink.innerHTML = docLinkHtml;\n",
              "          element.appendChild(docLink);\n",
              "        }\n",
              "      </script>\n",
              "    </div>\n",
              "  </div>\n",
              "  "
            ]
          },
          "metadata": {},
          "execution_count": 101
        }
      ]
    },
    {
      "cell_type": "markdown",
      "source": [
        "## Pie Chart: Gender"
      ],
      "metadata": {
        "id": "UvFp-C5bMXbN"
      }
    },
    {
      "cell_type": "code",
      "source": [
        "plt.rcParams[\"figure.figsize\"] = (10, 5.5) # Config size"
      ],
      "metadata": {
        "id": "qI6-fFNkdRIq"
      },
      "execution_count": 119,
      "outputs": []
    },
    {
      "cell_type": "code",
      "source": [
        "# Group data\n",
        "dfGender = df[['emp_id', 'gender']]\n",
        "plt.title('Pie Chart:  Employee Gender')\n",
        "plt.pie(dfGender.groupby(['gender'])['emp_id'].count(), labels=['Female', 'Male'], explode = [0.1, 0])\n",
        "plt.legend()\n",
        "plt.show()"
      ],
      "metadata": {
        "colab": {
          "base_uri": "https://localhost:8080/",
          "height": 346
        },
        "id": "-abuMTwFMbnC",
        "outputId": "30c155b7-198b-4cc8-ac2c-6d4a903bad77"
      },
      "execution_count": 120,
      "outputs": [
        {
          "output_type": "display_data",
          "data": {
            "text/plain": [
              "<Figure size 720x396 with 1 Axes>"
            ],
            "image/png": "[encoded data removed]"
          },
          "metadata": {}
        }
      ]
    },
    {
      "cell_type": "markdown",
      "source": [
        "## Bar Chart: Nationality"
      ],
      "metadata": {
        "id": "6e7dAaPnO2_g"
      }
    },
    {
      "cell_type": "code",
      "source": [
        "plt.rcParams[\"figure.figsize\"] = (10, 5) # Config size"
      ],
      "metadata": {
        "id": "RyayhzRieJwS"
      },
      "execution_count": 144,
      "outputs": []
    },
    {
      "cell_type": "code",
      "source": [
        "dfNationality = df[['emp_id', 'nationality']]\n",
        "plt.title('Bar Chart:  Employee Nationality')\n",
        "dfNationality.groupby(['nationality'])['emp_id'].count().plot.barh(color='green')\n",
        "plt.xlabel('people')\n",
        "plt.show()"
      ],
      "metadata": {
        "colab": {
          "base_uri": "https://localhost:8080/",
          "height": 350
        },
        "id": "drZABXL1c4pe",
        "outputId": "17e2dcb2-e3bc-41ad-c443-bc0882de3324"
      },
      "execution_count": 145,
      "outputs": [
        {
          "output_type": "display_data",
          "data": {
            "text/plain": [
              "<Figure size 720x360 with 1 Axes>"
            ],
            "image/png": "[encoded data removed]"
          },
          "metadata": {
            "needs_background": "light"
          }
        }
      ]
    },
    {
      "cell_type": "markdown",
      "source": [
        "## Bar Chart: Employee Region"
      ],
      "metadata": {
        "id": "mlTxrAXmiTe9"
      }
    },
    {
      "cell_type": "code",
      "source": [
        "plt.rcParams[\"figure.figsize\"] = (10, 5) # Config size"
      ],
      "metadata": {
        "id": "ibyLVKf7ibbP"
      },
      "execution_count": 147,
      "outputs": []
    },
    {
      "cell_type": "code",
      "source": [
        "dfNationality = df[['emp_id', 'region']]\n",
        "plt.title('Bar Chart:  Employee Region')\n",
        "dfNationality.groupby(['region'])['emp_id'].count().plot.bar(color='blue')\n",
        "plt.ylabel('people')\n",
        "plt.show()"
      ],
      "metadata": {
        "colab": {
          "base_uri": "https://localhost:8080/",
          "height": 398
        },
        "id": "nhe4gwqwib06",
        "outputId": "4229ef26-aecc-4d07-9a79-c5a320c4b15b"
      },
      "execution_count": 148,
      "outputs": [
        {
          "output_type": "display_data",
          "data": {
            "text/plain": [
              "<Figure size 720x360 with 1 Axes>"
            ],
            "image/png": "[encoded data removed]"
          },
          "metadata": {
            "needs_background": "light"
          }
        }
      ]
    },
    {
      "cell_type": "markdown",
      "source": [
        "## Bar Char: Age average each of Employee deparment"
      ],
      "metadata": {
        "id": "pTwn2WU2hCye"
      }
    },
    {
      "cell_type": "code",
      "source": [
        "plt.rcParams[\"figure.figsize\"] = (10, 5) # Config size"
      ],
      "metadata": {
        "id": "RluJtYBMh8jp"
      },
      "execution_count": 146,
      "outputs": []
    },
    {
      "cell_type": "code",
      "source": [
        "dfAge = df[['age', 'dept']]\n",
        "dfAge.groupby(['dept'])['age'].mean().plot.barh()\n",
        "plt.title('Bar Chart:  Age average each of Employee deparment')\n",
        "plt.xlabel('age')\n",
        "plt.show()"
      ],
      "metadata": {
        "colab": {
          "base_uri": "https://localhost:8080/",
          "height": 350
        },
        "id": "qFW7T9rCh7jH",
        "outputId": "66360e24-64d9-46bc-d284-7977a3c1db03"
      },
      "execution_count": 186,
      "outputs": [
        {
          "output_type": "display_data",
          "data": {
            "text/plain": [
              "<Figure size 720x360 with 1 Axes>"
            ],
            "image/png": "[encoded data removed]"
          },
          "metadata": {
            "needs_background": "light"
          }
        }
      ]
    }
  ]
}