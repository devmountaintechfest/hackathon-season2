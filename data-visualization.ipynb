{
  "cells": [
    {
      "cell_type": "markdown",
      "metadata": {
        "id": "view-in-github",
        "colab_type": "text"
      },
      "source": [
        "<a href=\"https://colab.research.google.com/github/rsxss/hackathon-season2/blob/main/data-visualization.ipynb\" target=\"_parent\"><img src=\"https://colab.research.google.com/assets/colab-badge.svg\" alt=\"Open In Colab\"/></a>"
      ]
    },
    {
      "cell_type": "markdown",
      "source": [
        "# **Dev Mountain Tech Festival Season 2**\n"
      ],
      "metadata": {
        "id": "fGI0SGI8iKLU"
      }
    },
    {
      "cell_type": "markdown",
      "source": [
        "## Befor migration"
      ],
      "metadata": {
        "id": "ZXzAqLkVjhhF"
      }
    },
    {
      "cell_type": "code",
      "execution_count": 59,
      "metadata": {
        "id": "j1crNZld6bnW"
      },
      "outputs": [],
      "source": [
        "import pandas as pd\n",
        "import matplotlib.pyplot as plt\n",
        "import numpy as np\n",
        "import collections\n",
        "import plotly.express as px\n",
        "from datetime import datetime"
      ]
    },
    {
      "cell_type": "markdown",
      "source": [
        "### Chart"
      ],
      "metadata": {
        "id": "DUdfWDyaneH_"
      }
    },
    {
      "cell_type": "code",
      "execution_count": 60,
      "metadata": {
        "id": "ypPBntDw7KvQ"
      },
      "outputs": [],
      "source": [
        "data = pd.read_csv(\"/content/data-devclub-1.csv\")\n",
        "df = pd.DataFrame(data)"
      ]
    },
    {
      "cell_type": "code",
      "execution_count": 61,
      "metadata": {
        "colab": {
          "base_uri": "https://localhost:8080/",
          "height": 468
        },
        "id": "dV1zXU1G7Xo8",
        "outputId": "5ce429b3-a1fa-49a3-d19b-8ddb6b3b31e2"
      },
      "outputs": [
        {
          "output_type": "display_data",
          "data": {
            "text/plain": [
              "    EMPID     PASSPORT    FIRSTNAME   LASTNAME  GENDER    BIRTHDAY  \\\n",
              "0       1  OQI75XIE4UX  Christopher    Kennedy       1  05-02-1978   \n",
              "1       2  CDC87ETW8EQ       Burton   Gallegos       0  22-09-1960   \n",
              "2       3  JUI65YBK7AF         Jada     Bender       0  28-05-1963   \n",
              "3       4  CYB72WYU6UR       Winter      Blair       0  14-02-1993   \n",
              "4       5  AZE20CSG4MU      Lillian      Reese       0  03-12-1982   \n",
              "..    ...          ...          ...        ...     ...         ...   \n",
              "95     96  LJB26BQM6PS        Laith  Whitfield       0  14-01-1987   \n",
              "96     97  SUF73DKV4QE        Dante       Hart       0  21-12-1999   \n",
              "97     98  DOB31QXV4GZ        Moana      Walsh       1  03-05-1995   \n",
              "98     99  OUB92IKA7AU        Jonah    Solomon       1  25-05-1985   \n",
              "99    100  WIN16ELU8GN      Orlando      Mayer       0  11-01-1961   \n",
              "\n",
              "           NATIONALITY       HIRED                  DEPT    POSITION  STATUS  \\\n",
              "0          South Korea  20-02-2005       Flight Planning     Steward       2   \n",
              "1              Germany  29-10-2021  Aircraft Maintenance       Pilot       1   \n",
              "2             Pakistan  11-02-2001                 Pilot       Pilot       1   \n",
              "3              Austria  24-03-2022                 Pilot     Steward       4   \n",
              "4              Ukraine  19-05-2002       Flight Planning     Steward       1   \n",
              "..                 ...         ...                   ...         ...     ...   \n",
              "95  Russian Federation  09-02-2001                 Pilot  Airhostess       0   \n",
              "96                Peru  22-02-2016                 Pilot       Pilot       1   \n",
              "97              Brazil  21-04-2002                 Pilot  Airhostess       3   \n",
              "98            Pakistan  30-04-2023     Flight Attendance       Pilot       3   \n",
              "99             Austria  07-04-2003                 Pilot       Pilot       0   \n",
              "\n",
              "    REGION  \n",
              "0   Europe  \n",
              "1     APAC  \n",
              "2   Canada  \n",
              "3   Ocenia  \n",
              "4   Canada  \n",
              "..     ...  \n",
              "95    APAC  \n",
              "96  Europe  \n",
              "97  Ocenia  \n",
              "98  Europe  \n",
              "99    APAC  \n",
              "\n",
              "[100 rows x 12 columns]"
            ],
            "text/html": [
              "\n",
              "  <div id=\"df-f492f102-2821-4565-9efe-f47b863c41f5\">\n",
              "    <div class=\"colab-df-container\">\n",
              "      <div>\n",
              "<style scoped>\n",
              "    .dataframe tbody tr th:only-of-type {\n",
              "        vertical-align: middle;\n",
              "    }\n",
              "\n",
              "    .dataframe tbody tr th {\n",
              "        vertical-align: top;\n",
              "    }\n",
              "\n",
              "    .dataframe thead th {\n",
              "        text-align: right;\n",
              "    }\n",
              "</style>\n",
              "<table border=\"1\" class=\"dataframe\">\n",
              "  <thead>\n",
              "    <tr style=\"text-align: right;\">\n",
              "      <th></th>\n",
              "      <th>EMPID</th>\n",
              "      <th>PASSPORT</th>\n",
              "      <th>FIRSTNAME</th>\n",
              "      <th>LASTNAME</th>\n",
              "      <th>GENDER</th>\n",
              "      <th>BIRTHDAY</th>\n",
              "      <th>NATIONALITY</th>\n",
              "      <th>HIRED</th>\n",
              "      <th>DEPT</th>\n",
              "      <th>POSITION</th>\n",
              "      <th>STATUS</th>\n",
              "      <th>REGION</th>\n",
              "    </tr>\n",
              "  </thead>\n",
              "  <tbody>\n",
              "    <tr>\n",
              "      <th>0</th>\n",
              "      <td>1</td>\n",
              "      <td>OQI75XIE4UX</td>\n",
              "      <td>Christopher</td>\n",
              "      <td>Kennedy</td>\n",
              "      <td>1</td>\n",
              "      <td>05-02-1978</td>\n",
              "      <td>South Korea</td>\n",
              "      <td>20-02-2005</td>\n",
              "      <td>Flight Planning</td>\n",
              "      <td>Steward</td>\n",
              "      <td>2</td>\n",
              "      <td>Europe</td>\n",
              "    </tr>\n",
              "    <tr>\n",
              "      <th>1</th>\n",
              "      <td>2</td>\n",
              "      <td>CDC87ETW8EQ</td>\n",
              "      <td>Burton</td>\n",
              "      <td>Gallegos</td>\n",
              "      <td>0</td>\n",
              "      <td>22-09-1960</td>\n",
              "      <td>Germany</td>\n",
              "      <td>29-10-2021</td>\n",
              "      <td>Aircraft Maintenance</td>\n",
              "      <td>Pilot</td>\n",
              "      <td>1</td>\n",
              "      <td>APAC</td>\n",
              "    </tr>\n",
              "    <tr>\n",
              "      <th>2</th>\n",
              "      <td>3</td>\n",
              "      <td>JUI65YBK7AF</td>\n",
              "      <td>Jada</td>\n",
              "      <td>Bender</td>\n",
              "      <td>0</td>\n",
              "      <td>28-05-1963</td>\n",
              "      <td>Pakistan</td>\n",
              "      <td>11-02-2001</td>\n",
              "      <td>Pilot</td>\n",
              "      <td>Pilot</td>\n",
              "      <td>1</td>\n",
              "      <td>Canada</td>\n",
              "    </tr>\n",
              "    <tr>\n",
              "      <th>3</th>\n",
              "      <td>4</td>\n",
              "      <td>CYB72WYU6UR</td>\n",
              "      <td>Winter</td>\n",
              "      <td>Blair</td>\n",
              "      <td>0</td>\n",
              "      <td>14-02-1993</td>\n",
              "      <td>Austria</td>\n",
              "      <td>24-03-2022</td>\n",
              "      <td>Pilot</td>\n",
              "      <td>Steward</td>\n",
              "      <td>4</td>\n",
              "      <td>Ocenia</td>\n",
              "    </tr>\n",
              "    <tr>\n",
              "      <th>4</th>\n",
              "      <td>5</td>\n",
              "      <td>AZE20CSG4MU</td>\n",
              "      <td>Lillian</td>\n",
              "      <td>Reese</td>\n",
              "      <td>0</td>\n",
              "      <td>03-12-1982</td>\n",
              "      <td>Ukraine</td>\n",
              "      <td>19-05-2002</td>\n",
              "      <td>Flight Planning</td>\n",
              "      <td>Steward</td>\n",
              "      <td>1</td>\n",
              "      <td>Canada</td>\n",
              "    </tr>\n",
              "    <tr>\n",
              "      <th>...</th>\n",
              "      <td>...</td>\n",
              "      <td>...</td>\n",
              "      <td>...</td>\n",
              "      <td>...</td>\n",
              "      <td>...</td>\n",
              "      <td>...</td>\n",
              "      <td>...</td>\n",
              "      <td>...</td>\n",
              "      <td>...</td>\n",
              "      <td>...</td>\n",
              "      <td>...</td>\n",
              "      <td>...</td>\n",
              "    </tr>\n",
              "    <tr>\n",
              "      <th>95</th>\n",
              "      <td>96</td>\n",
              "      <td>LJB26BQM6PS</td>\n",
              "      <td>Laith</td>\n",
              "      <td>Whitfield</td>\n",
              "      <td>0</td>\n",
              "      <td>14-01-1987</td>\n",
              "      <td>Russian Federation</td>\n",
              "      <td>09-02-2001</td>\n",
              "      <td>Pilot</td>\n",
              "      <td>Airhostess</td>\n",
              "      <td>0</td>\n",
              "      <td>APAC</td>\n",
              "    </tr>\n",
              "    <tr>\n",
              "      <th>96</th>\n",
              "      <td>97</td>\n",
              "      <td>SUF73DKV4QE</td>\n",
              "      <td>Dante</td>\n",
              "      <td>Hart</td>\n",
              "      <td>0</td>\n",
              "      <td>21-12-1999</td>\n",
              "      <td>Peru</td>\n",
              "      <td>22-02-2016</td>\n",
              "      <td>Pilot</td>\n",
              "      <td>Pilot</td>\n",
              "      <td>1</td>\n",
              "      <td>Europe</td>\n",
              "    </tr>\n",
              "    <tr>\n",
              "      <th>97</th>\n",
              "      <td>98</td>\n",
              "      <td>DOB31QXV4GZ</td>\n",
              "      <td>Moana</td>\n",
              "      <td>Walsh</td>\n",
              "      <td>1</td>\n",
              "      <td>03-05-1995</td>\n",
              "      <td>Brazil</td>\n",
              "      <td>21-04-2002</td>\n",
              "      <td>Pilot</td>\n",
              "      <td>Airhostess</td>\n",
              "      <td>3</td>\n",
              "      <td>Ocenia</td>\n",
              "    </tr>\n",
              "    <tr>\n",
              "      <th>98</th>\n",
              "      <td>99</td>\n",
              "      <td>OUB92IKA7AU</td>\n",
              "      <td>Jonah</td>\n",
              "      <td>Solomon</td>\n",
              "      <td>1</td>\n",
              "      <td>25-05-1985</td>\n",
              "      <td>Pakistan</td>\n",
              "      <td>30-04-2023</td>\n",
              "      <td>Flight Attendance</td>\n",
              "      <td>Pilot</td>\n",
              "      <td>3</td>\n",
              "      <td>Europe</td>\n",
              "    </tr>\n",
              "    <tr>\n",
              "      <th>99</th>\n",
              "      <td>100</td>\n",
              "      <td>WIN16ELU8GN</td>\n",
              "      <td>Orlando</td>\n",
              "      <td>Mayer</td>\n",
              "      <td>0</td>\n",
              "      <td>11-01-1961</td>\n",
              "      <td>Austria</td>\n",
              "      <td>07-04-2003</td>\n",
              "      <td>Pilot</td>\n",
              "      <td>Pilot</td>\n",
              "      <td>0</td>\n",
              "      <td>APAC</td>\n",
              "    </tr>\n",
              "  </tbody>\n",
              "</table>\n",
              "<p>100 rows × 12 columns</p>\n",
              "</div>\n",
              "      <button class=\"colab-df-convert\" onclick=\"convertToInteractive('df-f492f102-2821-4565-9efe-f47b863c41f5')\"\n",
              "              title=\"Convert this dataframe to an interactive table.\"\n",
              "              style=\"display:none;\">\n",
              "        \n",
              "  <svg xmlns=\"http://www.w3.org/2000/svg\" height=\"24px\"viewBox=\"0 0 24 24\"\n",
              "       width=\"24px\">\n",
              "    <path d=\"M0 0h24v24H0V0z\" fill=\"none\"/>\n",
              "    <path d=\"M18.56 5.44l.94 2.06.94-2.06 2.06-.94-2.06-.94-.94-2.06-.94 2.06-2.06.94zm-11 1L8.5 8.5l.94-2.06 2.06-.94-2.06-.94L8.5 2.5l-.94 2.06-2.06.94zm10 10l.94 2.06.94-2.06 2.06-.94-2.06-.94-.94-2.06-.94 2.06-2.06.94z\"/><path d=\"M17.41 7.96l-1.37-1.37c-.4-.4-.92-.59-1.43-.59-.52 0-1.04.2-1.43.59L10.3 9.45l-7.72 7.72c-.78.78-.78 2.05 0 2.83L4 21.41c.39.39.9.59 1.41.59.51 0 1.02-.2 1.41-.59l7.78-7.78 2.81-2.81c.8-.78.8-2.07 0-2.86zM5.41 20L4 18.59l7.72-7.72 1.47 1.35L5.41 20z\"/>\n",
              "  </svg>\n",
              "      </button>\n",
              "      \n",
              "  <style>\n",
              "    .colab-df-container {\n",
              "      display:flex;\n",
              "      flex-wrap:wrap;\n",
              "      gap: 12px;\n",
              "    }\n",
              "\n",
              "    .colab-df-convert {\n",
              "      background-color: #E8F0FE;\n",
              "      border: none;\n",
              "      border-radius: 50%;\n",
              "      cursor: pointer;\n",
              "      display: none;\n",
              "      fill: #1967D2;\n",
              "      height: 32px;\n",
              "      padding: 0 0 0 0;\n",
              "      width: 32px;\n",
              "    }\n",
              "\n",
              "    .colab-df-convert:hover {\n",
              "      background-color: #E2EBFA;\n",
              "      box-shadow: 0px 1px 2px rgba(60, 64, 67, 0.3), 0px 1px 3px 1px rgba(60, 64, 67, 0.15);\n",
              "      fill: #174EA6;\n",
              "    }\n",
              "\n",
              "    [theme=dark] .colab-df-convert {\n",
              "      background-color: #3B4455;\n",
              "      fill: #D2E3FC;\n",
              "    }\n",
              "\n",
              "    [theme=dark] .colab-df-convert:hover {\n",
              "      background-color: #434B5C;\n",
              "      box-shadow: 0px 1px 3px 1px rgba(0, 0, 0, 0.15);\n",
              "      filter: drop-shadow(0px 1px 2px rgba(0, 0, 0, 0.3));\n",
              "      fill: #FFFFFF;\n",
              "    }\n",
              "  </style>\n",
              "\n",
              "      <script>\n",
              "        const buttonEl =\n",
              "          document.querySelector('#df-f492f102-2821-4565-9efe-f47b863c41f5 button.colab-df-convert');\n",
              "        buttonEl.style.display =\n",
              "          google.colab.kernel.accessAllowed ? 'block' : 'none';\n",
              "\n",
              "        async function convertToInteractive(key) {\n",
              "          const element = document.querySelector('#df-f492f102-2821-4565-9efe-f47b863c41f5');\n",
              "          const dataTable =\n",
              "            await google.colab.kernel.invokeFunction('convertToInteractive',\n",
              "                                                     [key], {});\n",
              "          if (!dataTable) return;\n",
              "\n",
              "          const docLinkHtml = 'Like what you see? Visit the ' +\n",
              "            '<a target=\"_blank\" href=https://colab.research.google.com/notebooks/data_table.ipynb>data table notebook</a>'\n",
              "            + ' to learn more about interactive tables.';\n",
              "          element.innerHTML = '';\n",
              "          dataTable['output_type'] = 'display_data';\n",
              "          await google.colab.output.renderOutput(dataTable, element);\n",
              "          const docLink = document.createElement('div');\n",
              "          docLink.innerHTML = docLinkHtml;\n",
              "          element.appendChild(docLink);\n",
              "        }\n",
              "      </script>\n",
              "    </div>\n",
              "  </div>\n",
              "  "
            ]
          },
          "metadata": {}
        }
      ],
      "source": [
        "display(df)"
      ]
    },
    {
      "cell_type": "code",
      "execution_count": 62,
      "metadata": {
        "colab": {
          "base_uri": "https://localhost:8080/",
          "height": 261
        },
        "id": "WyIMOVPqJN8r",
        "outputId": "6b8561c8-13d2-4247-bc1a-9dc5d7237f89"
      },
      "outputs": [
        {
          "output_type": "display_data",
          "data": {
            "text/plain": [
              "<Figure size 252x252 with 1 Axes>"
            ],
            "image/png": "[encoded data removed]"
          },
          "metadata": {
            "needs_background": "light"
          }
        }
      ],
      "source": [
        "plt.rcParams[\"figure.figsize\"] = [3.50, 3.50]\n",
        "plt.rcParams[\"figure.autolayout\"] = True\n",
        "\n",
        "n, bins, patches = plt.hist(df['POSITION'], bins=3, edgecolor='black')\n",
        "ticks = [(patch._x0 + patch._x1)/2 for patch in patches]\n",
        "plt.xticks(ticks)\n",
        "plt.title(\"Position\")\n",
        "plt.show()"
      ]
    },
    {
      "cell_type": "code",
      "execution_count": 63,
      "metadata": {
        "colab": {
          "base_uri": "https://localhost:8080/",
          "height": 263
        },
        "id": "h8bn13soHBsp",
        "outputId": "1e7ada69-fa9c-4f2e-dd3e-61929c3a4a19"
      },
      "outputs": [
        {
          "output_type": "stream",
          "name": "stdout",
          "text": [
            "OrderedDict([(0, 52), (1, 48)])\n"
          ]
        },
        {
          "output_type": "display_data",
          "data": {
            "text/plain": [
              "<Figure size 252x252 with 1 Axes>"
            ],
            "image/png": "[encoded data removed]"
          },
          "metadata": {}
        }
      ],
      "source": [
        "count = collections.Counter(df['GENDER'])\n",
        "count = collections.OrderedDict(sorted(count.items()))\n",
        "Value = count.values()\n",
        "print(count)\n",
        "Key = [\"Female\",\"Male\"]\n",
        "\n",
        "fig, ax = plt.subplots()\n",
        "ax.pie(Value,labels = Key, autopct='%.2f%%', startangle=90)\n",
        "plt.title(\"Gender\")\n",
        "plt.show()"
      ]
    },
    {
      "cell_type": "code",
      "execution_count": 64,
      "metadata": {
        "colab": {
          "base_uri": "https://localhost:8080/",
          "height": 198
        },
        "id": "4gjlxN3_27v6",
        "outputId": "0a0a65fb-913d-49cb-ad14-c2a4e4d1ef0a"
      },
      "outputs": [
        {
          "output_type": "stream",
          "name": "stdout",
          "text": [
            "Counter({'Aircraft Maintenance': 34, 'Flight Planning': 24, 'Flight Attendance': 22, 'Pilot': 20})\n"
          ]
        },
        {
          "output_type": "display_data",
          "data": {
            "text/plain": [
              "<Figure size 252x252 with 1 Axes>"
            ],
            "image/png": "[encoded data removed]"
          },
          "metadata": {}
        }
      ],
      "source": [
        "count_dept = collections.Counter(df['DEPT'])\n",
        "Value_dept = count_dept.values()\n",
        "Key_dept = count_dept.keys();\n",
        "print(count_dept)\n",
        "\n",
        "fig1, ax1 = plt.subplots()\n",
        "ax1.pie(Value_dept,labels = Key_dept, autopct='%.2f%%', startangle=90)\n",
        "plt.title(\"Department\")\n",
        "plt.show()"
      ]
    },
    {
      "cell_type": "code",
      "execution_count": 65,
      "metadata": {
        "colab": {
          "base_uri": "https://localhost:8080/",
          "height": 191
        },
        "id": "8m3YYxQJ41L4",
        "outputId": "f5a710e2-f498-43ab-ddc2-597f0c5394f3"
      },
      "outputs": [
        {
          "output_type": "stream",
          "name": "stdout",
          "text": [
            "dict_values([30, 13, 19, 38])\n"
          ]
        },
        {
          "output_type": "display_data",
          "data": {
            "text/plain": [
              "<Figure size 252x252 with 1 Axes>"
            ],
            "image/png": "[encoded data removed]"
          },
          "metadata": {}
        }
      ],
      "source": [
        "count_status = collections.Counter(df['STATUS'])\n",
        "count_status = collections.OrderedDict(sorted(count_status.items()))\n",
        "dict_status = {'0': count_status[0], '1': count_status[1], '2': count_status[2], '3': count_status[3]+count_status[4]}\n",
        "Value_status = dict_status.values()\n",
        "\n",
        "Key_status = [\"Active\",\"Resigned\",\"Retired\",\"Anomaly Information\"]\n",
        "print(Value_status)\n",
        "explode = (0, 0,0,0.1)\n",
        "\n",
        "fig2, ax2 = plt.subplots()\n",
        "ax2.pie(Value_status,explode=explode,labels = Key_status, autopct='%.2f%%', startangle=90)\n",
        "plt.title(\"Status\")\n",
        "plt.show()"
      ]
    },
    {
      "cell_type": "code",
      "execution_count": 66,
      "metadata": {
        "colab": {
          "base_uri": "https://localhost:8080/",
          "height": 278
        },
        "id": "dKO21KiiZIu2",
        "outputId": "13ca9e2c-c93e-4627-cf04-8ee081c06e86"
      },
      "outputs": [
        {
          "output_type": "execute_result",
          "data": {
            "text/plain": [
              "[<matplotlib.lines.Line2D at 0x7fec2bf5a5d0>]"
            ]
          },
          "metadata": {},
          "execution_count": 66
        },
        {
          "output_type": "display_data",
          "data": {
            "text/plain": [
              "<Figure size 252x252 with 1 Axes>"
            ],
            "image/png": "[encoded data removed]"
          },
          "metadata": {
            "needs_background": "light"
          }
        }
      ],
      "source": [
        "df_year = pd.DatetimeIndex(df['HIRED']).year\n",
        "dict_year = collections.Counter(df_year)\n",
        "dict_year = collections.OrderedDict(sorted(dict_year.items()))\n",
        "Value_year = list(dict_year.values())\n",
        "Keys_year = list(dict_year.keys())\n",
        "\n",
        "plt.title(\"The hiring rate for every years\")\n",
        "plt.xlabel('Year')\n",
        "plt.ylabel('Frequency')\n",
        "plt.grid(color='silver', linestyle=':', linewidth=1)\n",
        "plt.plot(Keys_year, Value_year)"
      ]
    },
    {
      "cell_type": "code",
      "execution_count": 67,
      "metadata": {
        "colab": {
          "base_uri": "https://localhost:8080/",
          "height": 278
        },
        "id": "sclqyTvMpSXh",
        "outputId": "ef61537e-0e7a-467d-ea78-6f2e70a437ed"
      },
      "outputs": [
        {
          "output_type": "execute_result",
          "data": {
            "text/plain": [
              "[<matplotlib.lines.Line2D at 0x7fec2bec5fd0>]"
            ]
          },
          "metadata": {},
          "execution_count": 67
        },
        {
          "output_type": "display_data",
          "data": {
            "text/plain": [
              "<Figure size 252x252 with 1 Axes>"
            ],
            "image/png": "[encoded data removed]"
          },
          "metadata": {
            "needs_background": "light"
          }
        }
      ],
      "source": [
        "bd = pd.DatetimeIndex(df['BIRTHDAY']).year\n",
        "dict_bd = collections.Counter(bd)\n",
        "dict_bd = collections.OrderedDict(sorted(dict_bd.items()))\n",
        "Value_bd = np.array(list(dict_bd.values()))\n",
        "Keys_bd = np.array(list(dict_bd.keys()))\n",
        "Keys_bd =[2022-x for x in Keys_bd]\n",
        "\n",
        "plt.xlim([22, 62])\n",
        "plt.title(\"Age of employee\")\n",
        "plt.xlabel('Age')\n",
        "plt.ylabel('Frequency')\n",
        "plt.grid(color='silver', linestyle=':', linewidth=1)\n",
        "plt.plot(Keys_bd, Value_bd)"
      ]
    },
    {
      "cell_type": "markdown",
      "source": [
        "### Map"
      ],
      "metadata": {
        "id": "OvRUS5AtnQ0c"
      }
    },
    {
      "cell_type": "markdown",
      "source": [
        "***Please use colab to see map***"
      ],
      "metadata": {
        "id": "S2CFE08mri7Q"
      }
    },
    {
      "cell_type": "code",
      "execution_count": 68,
      "metadata": {
        "colab": {
          "base_uri": "https://localhost:8080/"
        },
        "id": "L94m2DNNuKfM",
        "outputId": "8287105b-d488-4233-b2ec-1657b5da50e5"
      },
      "outputs": [
        {
          "output_type": "stream",
          "name": "stdout",
          "text": [
            "               country  count\n",
            "0          South Korea      2\n",
            "1              Germany      4\n",
            "2             Pakistan      4\n",
            "3              Austria      5\n",
            "4              Ukraine      2\n",
            "5               Norway      2\n",
            "6               Mexico      5\n",
            "7        United States      4\n",
            "8               Sweden      5\n",
            "9          Philippines      5\n",
            "10             Vietnam      6\n",
            "11         Netherlands      4\n",
            "12          Costa Rica      5\n",
            "13               India      3\n",
            "14            Colombia      2\n",
            "15        South Africa      3\n",
            "16  Russian Federation      3\n",
            "17      United Kingdom      3\n",
            "18               China      2\n",
            "19           Indonesia      3\n",
            "20               Italy      4\n",
            "21                Peru      6\n",
            "22             Ireland      2\n",
            "23              Turkey      3\n",
            "24              Brazil      3\n",
            "25               Spain      1\n",
            "26           Australia      2\n",
            "27           Singapore      3\n",
            "28             Belgium      1\n",
            "29         New Zealand      1\n",
            "30             Nigeria      1\n",
            "31              France      1\n"
          ]
        }
      ],
      "source": [
        "dict_na = pd.DataFrame(collections.Counter(df['NATIONALITY']), index=[0])\n",
        "\n",
        "data = pd.DataFrame(dict_na).T.reset_index()\n",
        "data.columns=['country', 'count']\n",
        "\n",
        "print(data)"
      ]
    },
    {
      "cell_type": "code",
      "execution_count": 69,
      "metadata": {
        "colab": {
          "base_uri": "https://localhost:8080/",
          "height": 542
        },
        "id": "P-lUFc_IzPYI",
        "outputId": "180f1177-4b1d-46ea-8275-5d1a01800a84"
      },
      "outputs": [
        {
          "output_type": "display_data",
          "data": {
            "text/html": [
              "<html>\n",
              "<head><meta charset=\"utf-8\" /></head>\n",
              "<body>\n",
              "    <div>            <script src=\"https://cdnjs.cloudflare.com/ajax/libs/mathjax/2.7.5/MathJax.js?config=TeX-AMS-MML_SVG\"></script><script type=\"text/javascript\">if (window.MathJax) {MathJax.Hub.Config({SVG: {font: \"STIX-Web\"}});}</script>                <script type=\"text/javascript\">window.PlotlyConfig = {MathJaxConfig: 'local'};</script>\n",
              "        <script src=\"https://cdn.plot.ly/plotly-2.8.3.min.js\"></script>                <div id=\"fb3467dc-2cbc-4a97-9b80-19aa2a3d3a4e\" class=\"plotly-graph-div\" style=\"height:525px; width:100%;\"></div>            <script type=\"text/javascript\">                                    window.PLOTLYENV=window.PLOTLYENV || {};                                    if (document.getElementById(\"fb3467dc-2cbc-4a97-9b80-19aa2a3d3a4e\")) {                    Plotly.newPlot(                        \"fb3467dc-2cbc-4a97-9b80-19aa2a3d3a4e\",                        [{\"coloraxis\":\"coloraxis\",\"geo\":\"geo\",\"hovertemplate\":\"country=%{location}<br>count=%{z}<extra></extra>\",\"locationmode\":\"country names\",\"locations\":[\"Australia\",\"Austria\",\"Belgium\",\"Brazil\",\"China\",\"Colombia\",\"Costa Rica\",\"France\",\"Germany\",\"India\",\"Indonesia\",\"Ireland\",\"Italy\",\"Mexico\",\"Netherlands\",\"New Zealand\",\"Nigeria\",\"Norway\",\"Pakistan\",\"Peru\",\"Philippines\",\"Singapore\",\"South Africa\",\"Spain\",\"Sweden\",\"Turkey\",\"United Kingdom\",\"United States\",\"Vietnam\"],\"name\":\"\",\"z\":[2,5,1,3,2,2,5,1,4,3,3,2,4,5,4,1,1,2,4,6,5,3,3,1,5,3,3,4,6],\"type\":\"choropleth\"}],                        {\"template\":{\"data\":{\"bar\":[{\"error_x\":{\"color\":\"#2a3f5f\"},\"error_y\":{\"color\":\"#2a3f5f\"},\"marker\":{\"line\":{\"color\":\"#E5ECF6\",\"width\":0.5},\"pattern\":{\"fillmode\":\"overlay\",\"size\":10,\"solidity\":0.2}},\"type\":\"bar\"}],\"barpolar\":[{\"marker\":{\"line\":{\"color\":\"#E5ECF6\",\"width\":0.5},\"pattern\":{\"fillmode\":\"overlay\",\"size\":10,\"solidity\":0.2}},\"type\":\"barpolar\"}],\"carpet\":[{\"aaxis\":{\"endlinecolor\":\"#2a3f5f\",\"gridcolor\":\"white\",\"linecolor\":\"white\",\"minorgridcolor\":\"white\",\"startlinecolor\":\"#2a3f5f\"},\"baxis\":{\"endlinecolor\":\"#2a3f5f\",\"gridcolor\":\"white\",\"linecolor\":\"white\",\"minorgridcolor\":\"white\",\"startlinecolor\":\"#2a3f5f\"},\"type\":\"carpet\"}],\"choropleth\":[{\"colorbar\":{\"outlinewidth\":0,\"ticks\":\"\"},\"type\":\"choropleth\"}],\"contour\":[{\"colorbar\":{\"outlinewidth\":0,\"ticks\":\"\"},\"colorscale\":[[0.0,\"#0d0887\"],[0.1111111111111111,\"#46039f\"],[0.2222222222222222,\"#7201a8\"],[0.3333333333333333,\"#9c179e\"],[0.4444444444444444,\"#bd3786\"],[0.5555555555555556,\"#d8576b\"],[0.6666666666666666,\"#ed7953\"],[0.7777777777777778,\"#fb9f3a\"],[0.8888888888888888,\"#fdca26\"],[1.0,\"#f0f921\"]],\"type\":\"contour\"}],\"contourcarpet\":[{\"colorbar\":{\"outlinewidth\":0,\"ticks\":\"\"},\"type\":\"contourcarpet\"}],\"heatmap\":[{\"colorbar\":{\"outlinewidth\":0,\"ticks\":\"\"},\"colorscale\":[[0.0,\"#0d0887\"],[0.1111111111111111,\"#46039f\"],[0.2222222222222222,\"#7201a8\"],[0.3333333333333333,\"#9c179e\"],[0.4444444444444444,\"#bd3786\"],[0.5555555555555556,\"#d8576b\"],[0.6666666666666666,\"#ed7953\"],[0.7777777777777778,\"#fb9f3a\"],[0.8888888888888888,\"#fdca26\"],[1.0,\"#f0f921\"]],\"type\":\"heatmap\"}],\"heatmapgl\":[{\"colorbar\":{\"outlinewidth\":0,\"ticks\":\"\"},\"colorscale\":[[0.0,\"#0d0887\"],[0.1111111111111111,\"#46039f\"],[0.2222222222222222,\"#7201a8\"],[0.3333333333333333,\"#9c179e\"],[0.4444444444444444,\"#bd3786\"],[0.5555555555555556,\"#d8576b\"],[0.6666666666666666,\"#ed7953\"],[0.7777777777777778,\"#fb9f3a\"],[0.8888888888888888,\"#fdca26\"],[1.0,\"#f0f921\"]],\"type\":\"heatmapgl\"}],\"histogram\":[{\"marker\":{\"pattern\":{\"fillmode\":\"overlay\",\"size\":10,\"solidity\":0.2}},\"type\":\"histogram\"}],\"histogram2d\":[{\"colorbar\":{\"outlinewidth\":0,\"ticks\":\"\"},\"colorscale\":[[0.0,\"#0d0887\"],[0.1111111111111111,\"#46039f\"],[0.2222222222222222,\"#7201a8\"],[0.3333333333333333,\"#9c179e\"],[0.4444444444444444,\"#bd3786\"],[0.5555555555555556,\"#d8576b\"],[0.6666666666666666,\"#ed7953\"],[0.7777777777777778,\"#fb9f3a\"],[0.8888888888888888,\"#fdca26\"],[1.0,\"#f0f921\"]],\"type\":\"histogram2d\"}],\"histogram2dcontour\":[{\"colorbar\":{\"outlinewidth\":0,\"ticks\":\"\"},\"colorscale\":[[0.0,\"#0d0887\"],[0.1111111111111111,\"#46039f\"],[0.2222222222222222,\"#7201a8\"],[0.3333333333333333,\"#9c179e\"],[0.4444444444444444,\"#bd3786\"],[0.5555555555555556,\"#d8576b\"],[0.6666666666666666,\"#ed7953\"],[0.7777777777777778,\"#fb9f3a\"],[0.8888888888888888,\"#fdca26\"],[1.0,\"#f0f921\"]],\"type\":\"histogram2dcontour\"}],\"mesh3d\":[{\"colorbar\":{\"outlinewidth\":0,\"ticks\":\"\"},\"type\":\"mesh3d\"}],\"parcoords\":[{\"line\":{\"colorbar\":{\"outlinewidth\":0,\"ticks\":\"\"}},\"type\":\"parcoords\"}],\"pie\":[{\"automargin\":true,\"type\":\"pie\"}],\"scatter\":[{\"marker\":{\"colorbar\":{\"outlinewidth\":0,\"ticks\":\"\"}},\"type\":\"scatter\"}],\"scatter3d\":[{\"line\":{\"colorbar\":{\"outlinewidth\":0,\"ticks\":\"\"}},\"marker\":{\"colorbar\":{\"outlinewidth\":0,\"ticks\":\"\"}},\"type\":\"scatter3d\"}],\"scattercarpet\":[{\"marker\":{\"colorbar\":{\"outlinewidth\":0,\"ticks\":\"\"}},\"type\":\"scattercarpet\"}],\"scattergeo\":[{\"marker\":{\"colorbar\":{\"outlinewidth\":0,\"ticks\":\"\"}},\"type\":\"scattergeo\"}],\"scattergl\":[{\"marker\":{\"colorbar\":{\"outlinewidth\":0,\"ticks\":\"\"}},\"type\":\"scattergl\"}],\"scattermapbox\":[{\"marker\":{\"colorbar\":{\"outlinewidth\":0,\"ticks\":\"\"}},\"type\":\"scattermapbox\"}],\"scatterpolar\":[{\"marker\":{\"colorbar\":{\"outlinewidth\":0,\"ticks\":\"\"}},\"type\":\"scatterpolar\"}],\"scatterpolargl\":[{\"marker\":{\"colorbar\":{\"outlinewidth\":0,\"ticks\":\"\"}},\"type\":\"scatterpolargl\"}],\"scatterternary\":[{\"marker\":{\"colorbar\":{\"outlinewidth\":0,\"ticks\":\"\"}},\"type\":\"scatterternary\"}],\"surface\":[{\"colorbar\":{\"outlinewidth\":0,\"ticks\":\"\"},\"colorscale\":[[0.0,\"#0d0887\"],[0.1111111111111111,\"#46039f\"],[0.2222222222222222,\"#7201a8\"],[0.3333333333333333,\"#9c179e\"],[0.4444444444444444,\"#bd3786\"],[0.5555555555555556,\"#d8576b\"],[0.6666666666666666,\"#ed7953\"],[0.7777777777777778,\"#fb9f3a\"],[0.8888888888888888,\"#fdca26\"],[1.0,\"#f0f921\"]],\"type\":\"surface\"}],\"table\":[{\"cells\":{\"fill\":{\"color\":\"#EBF0F8\"},\"line\":{\"color\":\"white\"}},\"header\":{\"fill\":{\"color\":\"#C8D4E3\"},\"line\":{\"color\":\"white\"}},\"type\":\"table\"}]},\"layout\":{\"annotationdefaults\":{\"arrowcolor\":\"#2a3f5f\",\"arrowhead\":0,\"arrowwidth\":1},\"autotypenumbers\":\"strict\",\"coloraxis\":{\"colorbar\":{\"outlinewidth\":0,\"ticks\":\"\"}},\"colorscale\":{\"diverging\":[[0,\"#8e0152\"],[0.1,\"#c51b7d\"],[0.2,\"#de77ae\"],[0.3,\"#f1b6da\"],[0.4,\"#fde0ef\"],[0.5,\"#f7f7f7\"],[0.6,\"#e6f5d0\"],[0.7,\"#b8e186\"],[0.8,\"#7fbc41\"],[0.9,\"#4d9221\"],[1,\"#276419\"]],\"sequential\":[[0.0,\"#0d0887\"],[0.1111111111111111,\"#46039f\"],[0.2222222222222222,\"#7201a8\"],[0.3333333333333333,\"#9c179e\"],[0.4444444444444444,\"#bd3786\"],[0.5555555555555556,\"#d8576b\"],[0.6666666666666666,\"#ed7953\"],[0.7777777777777778,\"#fb9f3a\"],[0.8888888888888888,\"#fdca26\"],[1.0,\"#f0f921\"]],\"sequentialminus\":[[0.0,\"#0d0887\"],[0.1111111111111111,\"#46039f\"],[0.2222222222222222,\"#7201a8\"],[0.3333333333333333,\"#9c179e\"],[0.4444444444444444,\"#bd3786\"],[0.5555555555555556,\"#d8576b\"],[0.6666666666666666,\"#ed7953\"],[0.7777777777777778,\"#fb9f3a\"],[0.8888888888888888,\"#fdca26\"],[1.0,\"#f0f921\"]]},\"colorway\":[\"#636efa\",\"#EF553B\",\"#00cc96\",\"#ab63fa\",\"#FFA15A\",\"#19d3f3\",\"#FF6692\",\"#B6E880\",\"#FF97FF\",\"#FECB52\"],\"font\":{\"color\":\"#2a3f5f\"},\"geo\":{\"bgcolor\":\"white\",\"lakecolor\":\"white\",\"landcolor\":\"#E5ECF6\",\"showlakes\":true,\"showland\":true,\"subunitcolor\":\"white\"},\"hoverlabel\":{\"align\":\"left\"},\"hovermode\":\"closest\",\"mapbox\":{\"style\":\"light\"},\"paper_bgcolor\":\"white\",\"plot_bgcolor\":\"#E5ECF6\",\"polar\":{\"angularaxis\":{\"gridcolor\":\"white\",\"linecolor\":\"white\",\"ticks\":\"\"},\"bgcolor\":\"#E5ECF6\",\"radialaxis\":{\"gridcolor\":\"white\",\"linecolor\":\"white\",\"ticks\":\"\"}},\"scene\":{\"xaxis\":{\"backgroundcolor\":\"#E5ECF6\",\"gridcolor\":\"white\",\"gridwidth\":2,\"linecolor\":\"white\",\"showbackground\":true,\"ticks\":\"\",\"zerolinecolor\":\"white\"},\"yaxis\":{\"backgroundcolor\":\"#E5ECF6\",\"gridcolor\":\"white\",\"gridwidth\":2,\"linecolor\":\"white\",\"showbackground\":true,\"ticks\":\"\",\"zerolinecolor\":\"white\"},\"zaxis\":{\"backgroundcolor\":\"#E5ECF6\",\"gridcolor\":\"white\",\"gridwidth\":2,\"linecolor\":\"white\",\"showbackground\":true,\"ticks\":\"\",\"zerolinecolor\":\"white\"}},\"shapedefaults\":{\"line\":{\"color\":\"#2a3f5f\"}},\"ternary\":{\"aaxis\":{\"gridcolor\":\"white\",\"linecolor\":\"white\",\"ticks\":\"\"},\"baxis\":{\"gridcolor\":\"white\",\"linecolor\":\"white\",\"ticks\":\"\"},\"bgcolor\":\"#E5ECF6\",\"caxis\":{\"gridcolor\":\"white\",\"linecolor\":\"white\",\"ticks\":\"\"}},\"title\":{\"x\":0.05},\"xaxis\":{\"automargin\":true,\"gridcolor\":\"white\",\"linecolor\":\"white\",\"ticks\":\"\",\"title\":{\"standoff\":15},\"zerolinecolor\":\"white\",\"zerolinewidth\":2},\"yaxis\":{\"automargin\":true,\"gridcolor\":\"white\",\"linecolor\":\"white\",\"ticks\":\"\",\"title\":{\"standoff\":15},\"zerolinecolor\":\"white\",\"zerolinewidth\":2}}},\"geo\":{\"domain\":{\"x\":[0.0,1.0],\"y\":[0.0,1.0]},\"projection\":{\"type\":\"natural earth\"},\"center\":{},\"showcoastlines\":false},\"coloraxis\":{\"colorbar\":{\"title\":{\"text\":\"count\"}},\"colorscale\":[[0.0,\"rgb(243, 224, 247)\"],[0.16666666666666666,\"rgb(228, 199, 241)\"],[0.3333333333333333,\"rgb(209, 175, 232)\"],[0.5,\"rgb(185, 152, 221)\"],[0.6666666666666666,\"rgb(159, 130, 206)\"],[0.8333333333333334,\"rgb(130, 109, 186)\"],[1.0,\"rgb(99, 88, 159)\"]]},\"legend\":{\"tracegroupgap\":0},\"margin\":{\"t\":60},\"title\":{\"text\":\"Employee Nationality\"}},                        {\"responsive\": true}                    ).then(function(){\n",
              "                            \n",
              "var gd = document.getElementById('fb3467dc-2cbc-4a97-9b80-19aa2a3d3a4e');\n",
              "var x = new MutationObserver(function (mutations, observer) {{\n",
              "        var display = window.getComputedStyle(gd).display;\n",
              "        if (!display || display === 'none') {{\n",
              "            console.log([gd, 'removed!']);\n",
              "            Plotly.purge(gd);\n",
              "            observer.disconnect();\n",
              "        }}\n",
              "}});\n",
              "\n",
              "// Listen for the removal of the full notebook cells\n",
              "var notebookContainer = gd.closest('#notebook-container');\n",
              "if (notebookContainer) {{\n",
              "    x.observe(notebookContainer, {childList: true});\n",
              "}}\n",
              "\n",
              "// Listen for the clearing of the current output cell\n",
              "var outputEl = gd.closest('.output');\n",
              "if (outputEl) {{\n",
              "    x.observe(outputEl, {childList: true});\n",
              "}}\n",
              "\n",
              "                        })                };                            </script>        </div>\n",
              "</body>\n",
              "</html>"
            ]
          },
          "metadata": {}
        }
      ],
      "source": [
        "database = px.data.gapminder().query('year == 2007')\n",
        "\n",
        "df_na = pd.merge(database, data, how='inner', on='country')\n",
        "\n",
        "\n",
        "fig = px.choropleth(df_na,\n",
        "                    locations=\"country\",\n",
        "                    locationmode=\"country names\",\n",
        "                    color=\"count\",\n",
        "                    color_continuous_scale=px.colors.sequential.Purp,\n",
        "                    projection=\"natural earth\"\n",
        ")\n",
        "\n",
        "fig.update_layout(\n",
        "    title_text = 'Employee Nationality',\n",
        "    geo=dict(\n",
        "        showcoastlines=False,\n",
        "        )\n",
        ")\n",
        "\n",
        "fig.show()"
      ]
    },
    {
      "cell_type": "markdown",
      "source": [
        "## After migration"
      ],
      "metadata": {
        "id": "jlFu8Rf2muF-"
      }
    },
    {
      "cell_type": "markdown",
      "source": [
        "### Chart"
      ],
      "metadata": {
        "id": "56bjc31Qnljd"
      }
    },
    {
      "cell_type": "code",
      "execution_count": 70,
      "metadata": {
        "id": "MEEYzmSb1u9B"
      },
      "outputs": [],
      "source": [
        "data_result = pd.read_csv(\"/content/data-devclub-1_result.csv\")\n",
        "df_result = pd.DataFrame(data_result)"
      ]
    },
    {
      "cell_type": "code",
      "execution_count": 71,
      "metadata": {
        "id": "IazK_5dj2URC",
        "colab": {
          "base_uri": "https://localhost:8080/",
          "height": 426
        },
        "outputId": "125a3a92-e112-4e79-8647-c63986911df8"
      },
      "outputs": [
        {
          "output_type": "display_data",
          "data": {
            "text/plain": [
              "    EMPID     PASSPORT FIRSTNAME   LASTNAME  GENDER    BIRTHDAY  NATIONALITY  \\\n",
              "0       3  JUI65YBK7AF      Jada     Bender       0  28-05-1963     Pakistan   \n",
              "1       5  AZE20CSG4MU   Lillian      Reese       0  03-12-1982      Ukraine   \n",
              "2      23  NFH65BYM0VB    Armand       Horn       0  24-05-1987  Netherlands   \n",
              "3      29  CMK62UAD3VK     Rowan    Leonard       1  15-07-1974      Germany   \n",
              "4      33  EWD45RJW5YK    Carter  Velasquez       0  23-11-1967    Indonesia   \n",
              "5      34  BFS82MEY3CX     Selma       Bush       0  26-03-1972        Italy   \n",
              "6      50  MRC33GHJ2KW    Calvin      Roach       1  16-04-1999       Mexico   \n",
              "7      66  WKV12UQC6QF   Zachery  Valentine       0  04-06-1971  Philippines   \n",
              "8      80  EUC74ENE9ZK      Ryan       Rush       0  13-06-1998        Italy   \n",
              "9      93  UXL43IOW6OV  Honorato    Maxwell       1  09-03-1982       France   \n",
              "10     95  OUP31WOE2IE      Dara     Wilcox       1  29-06-1996    Singapore   \n",
              "11     97  SUF73DKV4QE     Dante       Hart       0  21-12-1999         Peru   \n",
              "\n",
              "         HIRED                  DEPT    POSITION  STATUS       REGION  \n",
              "0   11-02-2001                 Pilot       Pilot       1       Canada  \n",
              "1   19-05-2002       Flight Planning     Steward       1       Canada  \n",
              "2   19-06-2007  Aircraft Maintenance  Airhostess       1       Ocenia  \n",
              "3   27-03-2004  Aircraft Maintenance       Pilot       1       Ocenia  \n",
              "4   27-02-2005       Flight Planning       Pilot       1         APAC  \n",
              "5   10-10-2008     Flight Attendance  Airhostess       1          USA  \n",
              "6   18-03-2011     Flight Attendance     Steward       1       Europe  \n",
              "7   25-08-2011     Flight Attendance     Steward       1  Middle East  \n",
              "8   31-07-2019  Aircraft Maintenance       Pilot       1  Middle East  \n",
              "9   04-02-2017  Aircraft Maintenance  Airhostess       1       Europe  \n",
              "10  18-05-2011     Flight Attendance  Airhostess       1       Canada  \n",
              "11  22-02-2016                 Pilot       Pilot       1       Europe  "
            ],
            "text/html": [
              "\n",
              "  <div id=\"df-17a497db-0a73-4c17-b0d2-9e5165ff1aa5\">\n",
              "    <div class=\"colab-df-container\">\n",
              "      <div>\n",
              "<style scoped>\n",
              "    .dataframe tbody tr th:only-of-type {\n",
              "        vertical-align: middle;\n",
              "    }\n",
              "\n",
              "    .dataframe tbody tr th {\n",
              "        vertical-align: top;\n",
              "    }\n",
              "\n",
              "    .dataframe thead th {\n",
              "        text-align: right;\n",
              "    }\n",
              "</style>\n",
              "<table border=\"1\" class=\"dataframe\">\n",
              "  <thead>\n",
              "    <tr style=\"text-align: right;\">\n",
              "      <th></th>\n",
              "      <th>EMPID</th>\n",
              "      <th>PASSPORT</th>\n",
              "      <th>FIRSTNAME</th>\n",
              "      <th>LASTNAME</th>\n",
              "      <th>GENDER</th>\n",
              "      <th>BIRTHDAY</th>\n",
              "      <th>NATIONALITY</th>\n",
              "      <th>HIRED</th>\n",
              "      <th>DEPT</th>\n",
              "      <th>POSITION</th>\n",
              "      <th>STATUS</th>\n",
              "      <th>REGION</th>\n",
              "    </tr>\n",
              "  </thead>\n",
              "  <tbody>\n",
              "    <tr>\n",
              "      <th>0</th>\n",
              "      <td>3</td>\n",
              "      <td>JUI65YBK7AF</td>\n",
              "      <td>Jada</td>\n",
              "      <td>Bender</td>\n",
              "      <td>0</td>\n",
              "      <td>28-05-1963</td>\n",
              "      <td>Pakistan</td>\n",
              "      <td>11-02-2001</td>\n",
              "      <td>Pilot</td>\n",
              "      <td>Pilot</td>\n",
              "      <td>1</td>\n",
              "      <td>Canada</td>\n",
              "    </tr>\n",
              "    <tr>\n",
              "      <th>1</th>\n",
              "      <td>5</td>\n",
              "      <td>AZE20CSG4MU</td>\n",
              "      <td>Lillian</td>\n",
              "      <td>Reese</td>\n",
              "      <td>0</td>\n",
              "      <td>03-12-1982</td>\n",
              "      <td>Ukraine</td>\n",
              "      <td>19-05-2002</td>\n",
              "      <td>Flight Planning</td>\n",
              "      <td>Steward</td>\n",
              "      <td>1</td>\n",
              "      <td>Canada</td>\n",
              "    </tr>\n",
              "    <tr>\n",
              "      <th>2</th>\n",
              "      <td>23</td>\n",
              "      <td>NFH65BYM0VB</td>\n",
              "      <td>Armand</td>\n",
              "      <td>Horn</td>\n",
              "      <td>0</td>\n",
              "      <td>24-05-1987</td>\n",
              "      <td>Netherlands</td>\n",
              "      <td>19-06-2007</td>\n",
              "      <td>Aircraft Maintenance</td>\n",
              "      <td>Airhostess</td>\n",
              "      <td>1</td>\n",
              "      <td>Ocenia</td>\n",
              "    </tr>\n",
              "    <tr>\n",
              "      <th>3</th>\n",
              "      <td>29</td>\n",
              "      <td>CMK62UAD3VK</td>\n",
              "      <td>Rowan</td>\n",
              "      <td>Leonard</td>\n",
              "      <td>1</td>\n",
              "      <td>15-07-1974</td>\n",
              "      <td>Germany</td>\n",
              "      <td>27-03-2004</td>\n",
              "      <td>Aircraft Maintenance</td>\n",
              "      <td>Pilot</td>\n",
              "      <td>1</td>\n",
              "      <td>Ocenia</td>\n",
              "    </tr>\n",
              "    <tr>\n",
              "      <th>4</th>\n",
              "      <td>33</td>\n",
              "      <td>EWD45RJW5YK</td>\n",
              "      <td>Carter</td>\n",
              "      <td>Velasquez</td>\n",
              "      <td>0</td>\n",
              "      <td>23-11-1967</td>\n",
              "      <td>Indonesia</td>\n",
              "      <td>27-02-2005</td>\n",
              "      <td>Flight Planning</td>\n",
              "      <td>Pilot</td>\n",
              "      <td>1</td>\n",
              "      <td>APAC</td>\n",
              "    </tr>\n",
              "    <tr>\n",
              "      <th>5</th>\n",
              "      <td>34</td>\n",
              "      <td>BFS82MEY3CX</td>\n",
              "      <td>Selma</td>\n",
              "      <td>Bush</td>\n",
              "      <td>0</td>\n",
              "      <td>26-03-1972</td>\n",
              "      <td>Italy</td>\n",
              "      <td>10-10-2008</td>\n",
              "      <td>Flight Attendance</td>\n",
              "      <td>Airhostess</td>\n",
              "      <td>1</td>\n",
              "      <td>USA</td>\n",
              "    </tr>\n",
              "    <tr>\n",
              "      <th>6</th>\n",
              "      <td>50</td>\n",
              "      <td>MRC33GHJ2KW</td>\n",
              "      <td>Calvin</td>\n",
              "      <td>Roach</td>\n",
              "      <td>1</td>\n",
              "      <td>16-04-1999</td>\n",
              "      <td>Mexico</td>\n",
              "      <td>18-03-2011</td>\n",
              "      <td>Flight Attendance</td>\n",
              "      <td>Steward</td>\n",
              "      <td>1</td>\n",
              "      <td>Europe</td>\n",
              "    </tr>\n",
              "    <tr>\n",
              "      <th>7</th>\n",
              "      <td>66</td>\n",
              "      <td>WKV12UQC6QF</td>\n",
              "      <td>Zachery</td>\n",
              "      <td>Valentine</td>\n",
              "      <td>0</td>\n",
              "      <td>04-06-1971</td>\n",
              "      <td>Philippines</td>\n",
              "      <td>25-08-2011</td>\n",
              "      <td>Flight Attendance</td>\n",
              "      <td>Steward</td>\n",
              "      <td>1</td>\n",
              "      <td>Middle East</td>\n",
              "    </tr>\n",
              "    <tr>\n",
              "      <th>8</th>\n",
              "      <td>80</td>\n",
              "      <td>EUC74ENE9ZK</td>\n",
              "      <td>Ryan</td>\n",
              "      <td>Rush</td>\n",
              "      <td>0</td>\n",
              "      <td>13-06-1998</td>\n",
              "      <td>Italy</td>\n",
              "      <td>31-07-2019</td>\n",
              "      <td>Aircraft Maintenance</td>\n",
              "      <td>Pilot</td>\n",
              "      <td>1</td>\n",
              "      <td>Middle East</td>\n",
              "    </tr>\n",
              "    <tr>\n",
              "      <th>9</th>\n",
              "      <td>93</td>\n",
              "      <td>UXL43IOW6OV</td>\n",
              "      <td>Honorato</td>\n",
              "      <td>Maxwell</td>\n",
              "      <td>1</td>\n",
              "      <td>09-03-1982</td>\n",
              "      <td>France</td>\n",
              "      <td>04-02-2017</td>\n",
              "      <td>Aircraft Maintenance</td>\n",
              "      <td>Airhostess</td>\n",
              "      <td>1</td>\n",
              "      <td>Europe</td>\n",
              "    </tr>\n",
              "    <tr>\n",
              "      <th>10</th>\n",
              "      <td>95</td>\n",
              "      <td>OUP31WOE2IE</td>\n",
              "      <td>Dara</td>\n",
              "      <td>Wilcox</td>\n",
              "      <td>1</td>\n",
              "      <td>29-06-1996</td>\n",
              "      <td>Singapore</td>\n",
              "      <td>18-05-2011</td>\n",
              "      <td>Flight Attendance</td>\n",
              "      <td>Airhostess</td>\n",
              "      <td>1</td>\n",
              "      <td>Canada</td>\n",
              "    </tr>\n",
              "    <tr>\n",
              "      <th>11</th>\n",
              "      <td>97</td>\n",
              "      <td>SUF73DKV4QE</td>\n",
              "      <td>Dante</td>\n",
              "      <td>Hart</td>\n",
              "      <td>0</td>\n",
              "      <td>21-12-1999</td>\n",
              "      <td>Peru</td>\n",
              "      <td>22-02-2016</td>\n",
              "      <td>Pilot</td>\n",
              "      <td>Pilot</td>\n",
              "      <td>1</td>\n",
              "      <td>Europe</td>\n",
              "    </tr>\n",
              "  </tbody>\n",
              "</table>\n",
              "</div>\n",
              "      <button class=\"colab-df-convert\" onclick=\"convertToInteractive('df-17a497db-0a73-4c17-b0d2-9e5165ff1aa5')\"\n",
              "              title=\"Convert this dataframe to an interactive table.\"\n",
              "              style=\"display:none;\">\n",
              "        \n",
              "  <svg xmlns=\"http://www.w3.org/2000/svg\" height=\"24px\"viewBox=\"0 0 24 24\"\n",
              "       width=\"24px\">\n",
              "    <path d=\"M0 0h24v24H0V0z\" fill=\"none\"/>\n",
              "    <path d=\"M18.56 5.44l.94 2.06.94-2.06 2.06-.94-2.06-.94-.94-2.06-.94 2.06-2.06.94zm-11 1L8.5 8.5l.94-2.06 2.06-.94-2.06-.94L8.5 2.5l-.94 2.06-2.06.94zm10 10l.94 2.06.94-2.06 2.06-.94-2.06-.94-.94-2.06-.94 2.06-2.06.94z\"/><path d=\"M17.41 7.96l-1.37-1.37c-.4-.4-.92-.59-1.43-.59-.52 0-1.04.2-1.43.59L10.3 9.45l-7.72 7.72c-.78.78-.78 2.05 0 2.83L4 21.41c.39.39.9.59 1.41.59.51 0 1.02-.2 1.41-.59l7.78-7.78 2.81-2.81c.8-.78.8-2.07 0-2.86zM5.41 20L4 18.59l7.72-7.72 1.47 1.35L5.41 20z\"/>\n",
              "  </svg>\n",
              "      </button>\n",
              "      \n",
              "  <style>\n",
              "    .colab-df-container {\n",
              "      display:flex;\n",
              "      flex-wrap:wrap;\n",
              "      gap: 12px;\n",
              "    }\n",
              "\n",
              "    .colab-df-convert {\n",
              "      background-color: #E8F0FE;\n",
              "      border: none;\n",
              "      border-radius: 50%;\n",
              "      cursor: pointer;\n",
              "      display: none;\n",
              "      fill: #1967D2;\n",
              "      height: 32px;\n",
              "      padding: 0 0 0 0;\n",
              "      width: 32px;\n",
              "    }\n",
              "\n",
              "    .colab-df-convert:hover {\n",
              "      background-color: #E2EBFA;\n",
              "      box-shadow: 0px 1px 2px rgba(60, 64, 67, 0.3), 0px 1px 3px 1px rgba(60, 64, 67, 0.15);\n",
              "      fill: #174EA6;\n",
              "    }\n",
              "\n",
              "    [theme=dark] .colab-df-convert {\n",
              "      background-color: #3B4455;\n",
              "      fill: #D2E3FC;\n",
              "    }\n",
              "\n",
              "    [theme=dark] .colab-df-convert:hover {\n",
              "      background-color: #434B5C;\n",
              "      box-shadow: 0px 1px 3px 1px rgba(0, 0, 0, 0.15);\n",
              "      filter: drop-shadow(0px 1px 2px rgba(0, 0, 0, 0.3));\n",
              "      fill: #FFFFFF;\n",
              "    }\n",
              "  </style>\n",
              "\n",
              "      <script>\n",
              "        const buttonEl =\n",
              "          document.querySelector('#df-17a497db-0a73-4c17-b0d2-9e5165ff1aa5 button.colab-df-convert');\n",
              "        buttonEl.style.display =\n",
              "          google.colab.kernel.accessAllowed ? 'block' : 'none';\n",
              "\n",
              "        async function convertToInteractive(key) {\n",
              "          const element = document.querySelector('#df-17a497db-0a73-4c17-b0d2-9e5165ff1aa5');\n",
              "          const dataTable =\n",
              "            await google.colab.kernel.invokeFunction('convertToInteractive',\n",
              "                                                     [key], {});\n",
              "          if (!dataTable) return;\n",
              "\n",
              "          const docLinkHtml = 'Like what you see? Visit the ' +\n",
              "            '<a target=\"_blank\" href=https://colab.research.google.com/notebooks/data_table.ipynb>data table notebook</a>'\n",
              "            + ' to learn more about interactive tables.';\n",
              "          element.innerHTML = '';\n",
              "          dataTable['output_type'] = 'display_data';\n",
              "          await google.colab.output.renderOutput(dataTable, element);\n",
              "          const docLink = document.createElement('div');\n",
              "          docLink.innerHTML = docLinkHtml;\n",
              "          element.appendChild(docLink);\n",
              "        }\n",
              "      </script>\n",
              "    </div>\n",
              "  </div>\n",
              "  "
            ]
          },
          "metadata": {}
        }
      ],
      "source": [
        "display(df_result)"
      ]
    },
    {
      "cell_type": "code",
      "execution_count": 72,
      "metadata": {
        "id": "IxEwec_r3KE7"
      },
      "outputs": [],
      "source": [
        "data = pd.read_csv(\"/content/data-devclub-1.csv\")\n",
        "df = pd.DataFrame(data)"
      ]
    },
    {
      "cell_type": "code",
      "execution_count": 73,
      "metadata": {
        "id": "44QO0nnw2nSI",
        "colab": {
          "base_uri": "https://localhost:8080/",
          "height": 261
        },
        "outputId": "b0cfb55c-755d-4e46-c410-4ce2db4f99f3"
      },
      "outputs": [
        {
          "output_type": "display_data",
          "data": {
            "text/plain": [
              "<Figure size 252x252 with 1 Axes>"
            ],
            "image/png": "[encoded data removed]"
          },
          "metadata": {}
        }
      ],
      "source": [
        "x = [len(df_result),len(df)]\n",
        "y = [\"Remaining\",\"Out\"]\n",
        "\n",
        "fig, ax = plt.subplots()\n",
        "explode = (0, 0.1)\n",
        "ax.pie(x,labels = y,explode=explode, autopct='%.2f%%', startangle=90)\n",
        "\n",
        "plt.title(\"Transfer\")\n",
        "plt.show()"
      ]
    },
    {
      "cell_type": "code",
      "source": [
        "count = collections.Counter(df_result['GENDER'])\n",
        "count = collections.OrderedDict(sorted(count.items()))\n",
        "\n",
        "Value = count.values()\n",
        "\n",
        "print(count)\n",
        "Key = [\"Male\",\"Female\"]\n",
        "\n",
        "fig, ax = plt.subplots()\n",
        "ax.pie(Value,labels = Key, autopct='%.2f%%', startangle=90)\n",
        "plt.title(\"Gender\")\n",
        "plt.show()"
      ],
      "metadata": {
        "colab": {
          "base_uri": "https://localhost:8080/",
          "height": 278
        },
        "id": "FKWGKQa-jqcx",
        "outputId": "f901879c-ad94-46bc-d600-52fdf81ee038"
      },
      "execution_count": 74,
      "outputs": [
        {
          "output_type": "stream",
          "name": "stdout",
          "text": [
            "OrderedDict([(0, 8), (1, 4)])\n"
          ]
        },
        {
          "output_type": "display_data",
          "data": {
            "text/plain": [
              "<Figure size 252x252 with 1 Axes>"
            ],
            "image/png": "[encoded data removed]"
          },
          "metadata": {}
        }
      ]
    },
    {
      "cell_type": "markdown",
      "source": [
        "### Map"
      ],
      "metadata": {
        "id": "Rk_C4oWonXlO"
      }
    },
    {
      "cell_type": "markdown",
      "source": [
        "***Please use colab to see map***"
      ],
      "metadata": {
        "id": "os5OCEUprSBD"
      }
    },
    {
      "cell_type": "code",
      "execution_count": 75,
      "metadata": {
        "id": "gglCO2Rl5llG",
        "colab": {
          "base_uri": "https://localhost:8080/"
        },
        "outputId": "10007e6d-689f-40d2-d90e-501f70f8ca5d"
      },
      "outputs": [
        {
          "output_type": "stream",
          "name": "stdout",
          "text": [
            "        country  count\n",
            "0      Pakistan      1\n",
            "1       Ukraine      1\n",
            "2   Netherlands      1\n",
            "3       Germany      1\n",
            "4     Indonesia      1\n",
            "5         Italy      2\n",
            "6        Mexico      1\n",
            "7   Philippines      1\n",
            "8        France      1\n",
            "9     Singapore      1\n",
            "10         Peru      1\n"
          ]
        }
      ],
      "source": [
        "dict_na_result = pd.DataFrame(collections.Counter(df_result['NATIONALITY']), index=[0])\n",
        "\n",
        "data_result = pd.DataFrame(dict_na_result).T.reset_index()\n",
        "data_result.columns=['country', 'count']\n",
        "\n",
        "print(data_result)"
      ]
    },
    {
      "cell_type": "code",
      "execution_count": 76,
      "metadata": {
        "id": "6NSU1R0t563t",
        "colab": {
          "base_uri": "https://localhost:8080/",
          "height": 542
        },
        "outputId": "f598775e-5b19-41c9-8161-618539306b7f"
      },
      "outputs": [
        {
          "output_type": "display_data",
          "data": {
            "text/html": [
              "<html>\n",
              "<head><meta charset=\"utf-8\" /></head>\n",
              "<body>\n",
              "    <div>            <script src=\"https://cdnjs.cloudflare.com/ajax/libs/mathjax/2.7.5/MathJax.js?config=TeX-AMS-MML_SVG\"></script><script type=\"text/javascript\">if (window.MathJax) {MathJax.Hub.Config({SVG: {font: \"STIX-Web\"}});}</script>                <script type=\"text/javascript\">window.PlotlyConfig = {MathJaxConfig: 'local'};</script>\n",
              "        <script src=\"https://cdn.plot.ly/plotly-2.8.3.min.js\"></script>                <div id=\"f880986c-8cc1-4ecb-9daa-3b0399abcd13\" class=\"plotly-graph-div\" style=\"height:525px; width:100%;\"></div>            <script type=\"text/javascript\">                                    window.PLOTLYENV=window.PLOTLYENV || {};                                    if (document.getElementById(\"f880986c-8cc1-4ecb-9daa-3b0399abcd13\")) {                    Plotly.newPlot(                        \"f880986c-8cc1-4ecb-9daa-3b0399abcd13\",                        [{\"coloraxis\":\"coloraxis\",\"geo\":\"geo\",\"hovertemplate\":\"country=%{location}<br>count=%{z}<extra></extra>\",\"locationmode\":\"country names\",\"locations\":[\"France\",\"Germany\",\"Indonesia\",\"Italy\",\"Mexico\",\"Netherlands\",\"Pakistan\",\"Peru\",\"Philippines\",\"Singapore\"],\"name\":\"\",\"z\":[1,1,1,2,1,1,1,1,1,1],\"type\":\"choropleth\"}],                        {\"template\":{\"data\":{\"bar\":[{\"error_x\":{\"color\":\"#2a3f5f\"},\"error_y\":{\"color\":\"#2a3f5f\"},\"marker\":{\"line\":{\"color\":\"#E5ECF6\",\"width\":0.5},\"pattern\":{\"fillmode\":\"overlay\",\"size\":10,\"solidity\":0.2}},\"type\":\"bar\"}],\"barpolar\":[{\"marker\":{\"line\":{\"color\":\"#E5ECF6\",\"width\":0.5},\"pattern\":{\"fillmode\":\"overlay\",\"size\":10,\"solidity\":0.2}},\"type\":\"barpolar\"}],\"carpet\":[{\"aaxis\":{\"endlinecolor\":\"#2a3f5f\",\"gridcolor\":\"white\",\"linecolor\":\"white\",\"minorgridcolor\":\"white\",\"startlinecolor\":\"#2a3f5f\"},\"baxis\":{\"endlinecolor\":\"#2a3f5f\",\"gridcolor\":\"white\",\"linecolor\":\"white\",\"minorgridcolor\":\"white\",\"startlinecolor\":\"#2a3f5f\"},\"type\":\"carpet\"}],\"choropleth\":[{\"colorbar\":{\"outlinewidth\":0,\"ticks\":\"\"},\"type\":\"choropleth\"}],\"contour\":[{\"colorbar\":{\"outlinewidth\":0,\"ticks\":\"\"},\"colorscale\":[[0.0,\"#0d0887\"],[0.1111111111111111,\"#46039f\"],[0.2222222222222222,\"#7201a8\"],[0.3333333333333333,\"#9c179e\"],[0.4444444444444444,\"#bd3786\"],[0.5555555555555556,\"#d8576b\"],[0.6666666666666666,\"#ed7953\"],[0.7777777777777778,\"#fb9f3a\"],[0.8888888888888888,\"#fdca26\"],[1.0,\"#f0f921\"]],\"type\":\"contour\"}],\"contourcarpet\":[{\"colorbar\":{\"outlinewidth\":0,\"ticks\":\"\"},\"type\":\"contourcarpet\"}],\"heatmap\":[{\"colorbar\":{\"outlinewidth\":0,\"ticks\":\"\"},\"colorscale\":[[0.0,\"#0d0887\"],[0.1111111111111111,\"#46039f\"],[0.2222222222222222,\"#7201a8\"],[0.3333333333333333,\"#9c179e\"],[0.4444444444444444,\"#bd3786\"],[0.5555555555555556,\"#d8576b\"],[0.6666666666666666,\"#ed7953\"],[0.7777777777777778,\"#fb9f3a\"],[0.8888888888888888,\"#fdca26\"],[1.0,\"#f0f921\"]],\"type\":\"heatmap\"}],\"heatmapgl\":[{\"colorbar\":{\"outlinewidth\":0,\"ticks\":\"\"},\"colorscale\":[[0.0,\"#0d0887\"],[0.1111111111111111,\"#46039f\"],[0.2222222222222222,\"#7201a8\"],[0.3333333333333333,\"#9c179e\"],[0.4444444444444444,\"#bd3786\"],[0.5555555555555556,\"#d8576b\"],[0.6666666666666666,\"#ed7953\"],[0.7777777777777778,\"#fb9f3a\"],[0.8888888888888888,\"#fdca26\"],[1.0,\"#f0f921\"]],\"type\":\"heatmapgl\"}],\"histogram\":[{\"marker\":{\"pattern\":{\"fillmode\":\"overlay\",\"size\":10,\"solidity\":0.2}},\"type\":\"histogram\"}],\"histogram2d\":[{\"colorbar\":{\"outlinewidth\":0,\"ticks\":\"\"},\"colorscale\":[[0.0,\"#0d0887\"],[0.1111111111111111,\"#46039f\"],[0.2222222222222222,\"#7201a8\"],[0.3333333333333333,\"#9c179e\"],[0.4444444444444444,\"#bd3786\"],[0.5555555555555556,\"#d8576b\"],[0.6666666666666666,\"#ed7953\"],[0.7777777777777778,\"#fb9f3a\"],[0.8888888888888888,\"#fdca26\"],[1.0,\"#f0f921\"]],\"type\":\"histogram2d\"}],\"histogram2dcontour\":[{\"colorbar\":{\"outlinewidth\":0,\"ticks\":\"\"},\"colorscale\":[[0.0,\"#0d0887\"],[0.1111111111111111,\"#46039f\"],[0.2222222222222222,\"#7201a8\"],[0.3333333333333333,\"#9c179e\"],[0.4444444444444444,\"#bd3786\"],[0.5555555555555556,\"#d8576b\"],[0.6666666666666666,\"#ed7953\"],[0.7777777777777778,\"#fb9f3a\"],[0.8888888888888888,\"#fdca26\"],[1.0,\"#f0f921\"]],\"type\":\"histogram2dcontour\"}],\"mesh3d\":[{\"colorbar\":{\"outlinewidth\":0,\"ticks\":\"\"},\"type\":\"mesh3d\"}],\"parcoords\":[{\"line\":{\"colorbar\":{\"outlinewidth\":0,\"ticks\":\"\"}},\"type\":\"parcoords\"}],\"pie\":[{\"automargin\":true,\"type\":\"pie\"}],\"scatter\":[{\"marker\":{\"colorbar\":{\"outlinewidth\":0,\"ticks\":\"\"}},\"type\":\"scatter\"}],\"scatter3d\":[{\"line\":{\"colorbar\":{\"outlinewidth\":0,\"ticks\":\"\"}},\"marker\":{\"colorbar\":{\"outlinewidth\":0,\"ticks\":\"\"}},\"type\":\"scatter3d\"}],\"scattercarpet\":[{\"marker\":{\"colorbar\":{\"outlinewidth\":0,\"ticks\":\"\"}},\"type\":\"scattercarpet\"}],\"scattergeo\":[{\"marker\":{\"colorbar\":{\"outlinewidth\":0,\"ticks\":\"\"}},\"type\":\"scattergeo\"}],\"scattergl\":[{\"marker\":{\"colorbar\":{\"outlinewidth\":0,\"ticks\":\"\"}},\"type\":\"scattergl\"}],\"scattermapbox\":[{\"marker\":{\"colorbar\":{\"outlinewidth\":0,\"ticks\":\"\"}},\"type\":\"scattermapbox\"}],\"scatterpolar\":[{\"marker\":{\"colorbar\":{\"outlinewidth\":0,\"ticks\":\"\"}},\"type\":\"scatterpolar\"}],\"scatterpolargl\":[{\"marker\":{\"colorbar\":{\"outlinewidth\":0,\"ticks\":\"\"}},\"type\":\"scatterpolargl\"}],\"scatterternary\":[{\"marker\":{\"colorbar\":{\"outlinewidth\":0,\"ticks\":\"\"}},\"type\":\"scatterternary\"}],\"surface\":[{\"colorbar\":{\"outlinewidth\":0,\"ticks\":\"\"},\"colorscale\":[[0.0,\"#0d0887\"],[0.1111111111111111,\"#46039f\"],[0.2222222222222222,\"#7201a8\"],[0.3333333333333333,\"#9c179e\"],[0.4444444444444444,\"#bd3786\"],[0.5555555555555556,\"#d8576b\"],[0.6666666666666666,\"#ed7953\"],[0.7777777777777778,\"#fb9f3a\"],[0.8888888888888888,\"#fdca26\"],[1.0,\"#f0f921\"]],\"type\":\"surface\"}],\"table\":[{\"cells\":{\"fill\":{\"color\":\"#EBF0F8\"},\"line\":{\"color\":\"white\"}},\"header\":{\"fill\":{\"color\":\"#C8D4E3\"},\"line\":{\"color\":\"white\"}},\"type\":\"table\"}]},\"layout\":{\"annotationdefaults\":{\"arrowcolor\":\"#2a3f5f\",\"arrowhead\":0,\"arrowwidth\":1},\"autotypenumbers\":\"strict\",\"coloraxis\":{\"colorbar\":{\"outlinewidth\":0,\"ticks\":\"\"}},\"colorscale\":{\"diverging\":[[0,\"#8e0152\"],[0.1,\"#c51b7d\"],[0.2,\"#de77ae\"],[0.3,\"#f1b6da\"],[0.4,\"#fde0ef\"],[0.5,\"#f7f7f7\"],[0.6,\"#e6f5d0\"],[0.7,\"#b8e186\"],[0.8,\"#7fbc41\"],[0.9,\"#4d9221\"],[1,\"#276419\"]],\"sequential\":[[0.0,\"#0d0887\"],[0.1111111111111111,\"#46039f\"],[0.2222222222222222,\"#7201a8\"],[0.3333333333333333,\"#9c179e\"],[0.4444444444444444,\"#bd3786\"],[0.5555555555555556,\"#d8576b\"],[0.6666666666666666,\"#ed7953\"],[0.7777777777777778,\"#fb9f3a\"],[0.8888888888888888,\"#fdca26\"],[1.0,\"#f0f921\"]],\"sequentialminus\":[[0.0,\"#0d0887\"],[0.1111111111111111,\"#46039f\"],[0.2222222222222222,\"#7201a8\"],[0.3333333333333333,\"#9c179e\"],[0.4444444444444444,\"#bd3786\"],[0.5555555555555556,\"#d8576b\"],[0.6666666666666666,\"#ed7953\"],[0.7777777777777778,\"#fb9f3a\"],[0.8888888888888888,\"#fdca26\"],[1.0,\"#f0f921\"]]},\"colorway\":[\"#636efa\",\"#EF553B\",\"#00cc96\",\"#ab63fa\",\"#FFA15A\",\"#19d3f3\",\"#FF6692\",\"#B6E880\",\"#FF97FF\",\"#FECB52\"],\"font\":{\"color\":\"#2a3f5f\"},\"geo\":{\"bgcolor\":\"white\",\"lakecolor\":\"white\",\"landcolor\":\"#E5ECF6\",\"showlakes\":true,\"showland\":true,\"subunitcolor\":\"white\"},\"hoverlabel\":{\"align\":\"left\"},\"hovermode\":\"closest\",\"mapbox\":{\"style\":\"light\"},\"paper_bgcolor\":\"white\",\"plot_bgcolor\":\"#E5ECF6\",\"polar\":{\"angularaxis\":{\"gridcolor\":\"white\",\"linecolor\":\"white\",\"ticks\":\"\"},\"bgcolor\":\"#E5ECF6\",\"radialaxis\":{\"gridcolor\":\"white\",\"linecolor\":\"white\",\"ticks\":\"\"}},\"scene\":{\"xaxis\":{\"backgroundcolor\":\"#E5ECF6\",\"gridcolor\":\"white\",\"gridwidth\":2,\"linecolor\":\"white\",\"showbackground\":true,\"ticks\":\"\",\"zerolinecolor\":\"white\"},\"yaxis\":{\"backgroundcolor\":\"#E5ECF6\",\"gridcolor\":\"white\",\"gridwidth\":2,\"linecolor\":\"white\",\"showbackground\":true,\"ticks\":\"\",\"zerolinecolor\":\"white\"},\"zaxis\":{\"backgroundcolor\":\"#E5ECF6\",\"gridcolor\":\"white\",\"gridwidth\":2,\"linecolor\":\"white\",\"showbackground\":true,\"ticks\":\"\",\"zerolinecolor\":\"white\"}},\"shapedefaults\":{\"line\":{\"color\":\"#2a3f5f\"}},\"ternary\":{\"aaxis\":{\"gridcolor\":\"white\",\"linecolor\":\"white\",\"ticks\":\"\"},\"baxis\":{\"gridcolor\":\"white\",\"linecolor\":\"white\",\"ticks\":\"\"},\"bgcolor\":\"#E5ECF6\",\"caxis\":{\"gridcolor\":\"white\",\"linecolor\":\"white\",\"ticks\":\"\"}},\"title\":{\"x\":0.05},\"xaxis\":{\"automargin\":true,\"gridcolor\":\"white\",\"linecolor\":\"white\",\"ticks\":\"\",\"title\":{\"standoff\":15},\"zerolinecolor\":\"white\",\"zerolinewidth\":2},\"yaxis\":{\"automargin\":true,\"gridcolor\":\"white\",\"linecolor\":\"white\",\"ticks\":\"\",\"title\":{\"standoff\":15},\"zerolinecolor\":\"white\",\"zerolinewidth\":2}}},\"geo\":{\"domain\":{\"x\":[0.0,1.0],\"y\":[0.0,1.0]},\"projection\":{\"type\":\"natural earth\"},\"center\":{},\"showcoastlines\":false},\"coloraxis\":{\"colorbar\":{\"title\":{\"text\":\"count\"}},\"colorscale\":[[0.0,\"rgb(243, 224, 247)\"],[0.16666666666666666,\"rgb(228, 199, 241)\"],[0.3333333333333333,\"rgb(209, 175, 232)\"],[0.5,\"rgb(185, 152, 221)\"],[0.6666666666666666,\"rgb(159, 130, 206)\"],[0.8333333333333334,\"rgb(130, 109, 186)\"],[1.0,\"rgb(99, 88, 159)\"]]},\"legend\":{\"tracegroupgap\":0},\"margin\":{\"t\":60},\"title\":{\"text\":\"Remaining Employee Nationality\"}},                        {\"responsive\": true}                    ).then(function(){\n",
              "                            \n",
              "var gd = document.getElementById('f880986c-8cc1-4ecb-9daa-3b0399abcd13');\n",
              "var x = new MutationObserver(function (mutations, observer) {{\n",
              "        var display = window.getComputedStyle(gd).display;\n",
              "        if (!display || display === 'none') {{\n",
              "            console.log([gd, 'removed!']);\n",
              "            Plotly.purge(gd);\n",
              "            observer.disconnect();\n",
              "        }}\n",
              "}});\n",
              "\n",
              "// Listen for the removal of the full notebook cells\n",
              "var notebookContainer = gd.closest('#notebook-container');\n",
              "if (notebookContainer) {{\n",
              "    x.observe(notebookContainer, {childList: true});\n",
              "}}\n",
              "\n",
              "// Listen for the clearing of the current output cell\n",
              "var outputEl = gd.closest('.output');\n",
              "if (outputEl) {{\n",
              "    x.observe(outputEl, {childList: true});\n",
              "}}\n",
              "\n",
              "                        })                };                            </script>        </div>\n",
              "</body>\n",
              "</html>"
            ]
          },
          "metadata": {}
        }
      ],
      "source": [
        "database = px.data.gapminder().query('year == 2007')\n",
        "\n",
        "df_na_result = pd.merge(database, data_result, how='inner', on='country')\n",
        "\n",
        "\n",
        "fig = px.choropleth(df_na_result,\n",
        "                    locations=\"country\",\n",
        "                    locationmode=\"country names\",\n",
        "                    color=\"count\",\n",
        "                    color_continuous_scale=px.colors.sequential.Purp,\n",
        "                    projection=\"natural earth\"\n",
        ")\n",
        "\n",
        "fig.update_layout(\n",
        "    title_text = 'Remaining Employee Nationality',\n",
        "    geo=dict( showcoastlines=False )\n",
        ")\n",
        "\n",
        "fig.show()"
      ]
    }
  ],
  "metadata": {
    "colab": {
      "provenance": [],
      "collapsed_sections": [],
      "authorship_tag": "ABX9TyMDF8S3sb/9SLZsbcV1jI2a",
      "include_colab_link": true
    },
    "kernelspec": {
      "display_name": "Python 3",
      "name": "python3"
    },
    "language_info": {
      "name": "python"
    }
  },
  "nbformat": 4,
  "nbformat_minor": 0
}