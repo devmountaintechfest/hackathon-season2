{
 "cells": [
  {
   "cell_type": "code",
   "execution_count": 2,
   "metadata": {},
   "outputs": [],
   "source": [
    "import numpy as np\n",
    "import pandas as pd\n",
    "import matplotlib.pyplot as plt\n",
    "import seaborn as sns\n",
    "from datetime import datetime as dt"
   ]
  },
  {
   "cell_type": "code",
   "execution_count": 12,
   "metadata": {},
   "outputs": [
    {
     "data": {
      "text/plain": [
       "Index(['EMP_ID', 'PASSPORT', 'FIRSTNAME', 'LASTNAME', 'GENDER', 'BIRTHDAY',\n",
       "       'NATIONALITY', 'HIRED', 'DEPT', 'POSITION', 'STATUS', 'REGION'],\n",
       "      dtype='object')"
      ]
     },
     "execution_count": 12,
     "metadata": {},
     "output_type": "execute_result"
    }
   ],
   "source": [
    "devclubDf=pd.read_csv(\"../csv/data-devclub.csv\")\n",
    "devclubDf.columns"
   ]
  },
  {
   "cell_type": "code",
   "execution_count": 13,
   "metadata": {},
   "outputs": [
    {
     "data": {
      "text/html": [
       "<div>\n",
       "<style scoped>\n",
       "    .dataframe tbody tr th:only-of-type {\n",
       "        vertical-align: middle;\n",
       "    }\n",
       "\n",
       "    .dataframe tbody tr th {\n",
       "        vertical-align: top;\n",
       "    }\n",
       "\n",
       "    .dataframe thead th {\n",
       "        text-align: right;\n",
       "    }\n",
       "</style>\n",
       "<table border=\"1\" class=\"dataframe\">\n",
       "  <thead>\n",
       "    <tr style=\"text-align: right;\">\n",
       "      <th></th>\n",
       "      <th>EMP_ID</th>\n",
       "      <th>PASSPORT</th>\n",
       "      <th>FIRSTNAME</th>\n",
       "      <th>LASTNAME</th>\n",
       "      <th>GENDER</th>\n",
       "      <th>BIRTHDAY</th>\n",
       "      <th>NATIONALITY</th>\n",
       "      <th>HIRED</th>\n",
       "      <th>DEPT</th>\n",
       "      <th>POSITION</th>\n",
       "      <th>STATUS</th>\n",
       "      <th>REGION</th>\n",
       "    </tr>\n",
       "  </thead>\n",
       "  <tbody>\n",
       "    <tr>\n",
       "      <th>0</th>\n",
       "      <td>3</td>\n",
       "      <td>JUI65YBK7AF</td>\n",
       "      <td>Jada</td>\n",
       "      <td>Bender</td>\n",
       "      <td>0</td>\n",
       "      <td>28-05-1963</td>\n",
       "      <td>Pakistan</td>\n",
       "      <td>11-02-2001</td>\n",
       "      <td>Pilot</td>\n",
       "      <td>Pilot</td>\n",
       "      <td>1</td>\n",
       "      <td>Canada</td>\n",
       "    </tr>\n",
       "    <tr>\n",
       "      <th>1</th>\n",
       "      <td>5</td>\n",
       "      <td>AZE20CSG4MU</td>\n",
       "      <td>Lillian</td>\n",
       "      <td>Reese</td>\n",
       "      <td>0</td>\n",
       "      <td>03-12-1982</td>\n",
       "      <td>Ukraine</td>\n",
       "      <td>19-05-2002</td>\n",
       "      <td>Flight Planning</td>\n",
       "      <td>Steward</td>\n",
       "      <td>1</td>\n",
       "      <td>Canada</td>\n",
       "    </tr>\n",
       "    <tr>\n",
       "      <th>2</th>\n",
       "      <td>23</td>\n",
       "      <td>NFH65BYM0VB</td>\n",
       "      <td>Armand</td>\n",
       "      <td>Horn</td>\n",
       "      <td>0</td>\n",
       "      <td>24-05-1987</td>\n",
       "      <td>Netherlands</td>\n",
       "      <td>19-06-2007</td>\n",
       "      <td>Aircraft Maintenance</td>\n",
       "      <td>Airhostess</td>\n",
       "      <td>1</td>\n",
       "      <td>Ocenia</td>\n",
       "    </tr>\n",
       "    <tr>\n",
       "      <th>3</th>\n",
       "      <td>29</td>\n",
       "      <td>CMK62UAD3VK</td>\n",
       "      <td>Rowan</td>\n",
       "      <td>Leonard</td>\n",
       "      <td>1</td>\n",
       "      <td>15-07-1974</td>\n",
       "      <td>Germany</td>\n",
       "      <td>27-03-2004</td>\n",
       "      <td>Aircraft Maintenance</td>\n",
       "      <td>Pilot</td>\n",
       "      <td>1</td>\n",
       "      <td>Ocenia</td>\n",
       "    </tr>\n",
       "    <tr>\n",
       "      <th>4</th>\n",
       "      <td>33</td>\n",
       "      <td>EWD45RJW5YK</td>\n",
       "      <td>Carter</td>\n",
       "      <td>Velasquez</td>\n",
       "      <td>0</td>\n",
       "      <td>23-11-1967</td>\n",
       "      <td>Indonesia</td>\n",
       "      <td>27-02-2005</td>\n",
       "      <td>Flight Planning</td>\n",
       "      <td>Pilot</td>\n",
       "      <td>1</td>\n",
       "      <td>APAC</td>\n",
       "    </tr>\n",
       "    <tr>\n",
       "      <th>5</th>\n",
       "      <td>34</td>\n",
       "      <td>BFS82MEY3CX</td>\n",
       "      <td>Selma</td>\n",
       "      <td>Bush</td>\n",
       "      <td>0</td>\n",
       "      <td>26-03-1972</td>\n",
       "      <td>Italy</td>\n",
       "      <td>10-10-2008</td>\n",
       "      <td>Flight Attendance</td>\n",
       "      <td>Airhostess</td>\n",
       "      <td>1</td>\n",
       "      <td>USA</td>\n",
       "    </tr>\n",
       "    <tr>\n",
       "      <th>6</th>\n",
       "      <td>50</td>\n",
       "      <td>MRC33GHJ2KW</td>\n",
       "      <td>Calvin</td>\n",
       "      <td>Roach</td>\n",
       "      <td>1</td>\n",
       "      <td>16-04-1999</td>\n",
       "      <td>Mexico</td>\n",
       "      <td>18-03-2011</td>\n",
       "      <td>Flight Attendance</td>\n",
       "      <td>Steward</td>\n",
       "      <td>1</td>\n",
       "      <td>Europe</td>\n",
       "    </tr>\n",
       "    <tr>\n",
       "      <th>7</th>\n",
       "      <td>66</td>\n",
       "      <td>WKV12UQC6QF</td>\n",
       "      <td>Zachery</td>\n",
       "      <td>Valentine</td>\n",
       "      <td>0</td>\n",
       "      <td>04-06-1971</td>\n",
       "      <td>Philippines</td>\n",
       "      <td>25-08-2011</td>\n",
       "      <td>Flight Attendance</td>\n",
       "      <td>Steward</td>\n",
       "      <td>1</td>\n",
       "      <td>Middle East</td>\n",
       "    </tr>\n",
       "    <tr>\n",
       "      <th>8</th>\n",
       "      <td>80</td>\n",
       "      <td>EUC74ENE9ZK</td>\n",
       "      <td>Ryan</td>\n",
       "      <td>Rush</td>\n",
       "      <td>0</td>\n",
       "      <td>13-06-1998</td>\n",
       "      <td>Italy</td>\n",
       "      <td>31-07-2019</td>\n",
       "      <td>Aircraft Maintenance</td>\n",
       "      <td>Pilot</td>\n",
       "      <td>1</td>\n",
       "      <td>Middle East</td>\n",
       "    </tr>\n",
       "    <tr>\n",
       "      <th>9</th>\n",
       "      <td>93</td>\n",
       "      <td>UXL43IOW6OV</td>\n",
       "      <td>Honorato</td>\n",
       "      <td>Maxwell</td>\n",
       "      <td>1</td>\n",
       "      <td>09-03-1982</td>\n",
       "      <td>France</td>\n",
       "      <td>04-02-2017</td>\n",
       "      <td>Aircraft Maintenance</td>\n",
       "      <td>Airhostess</td>\n",
       "      <td>1</td>\n",
       "      <td>Europe</td>\n",
       "    </tr>\n",
       "    <tr>\n",
       "      <th>10</th>\n",
       "      <td>95</td>\n",
       "      <td>OUP31WOE2IE</td>\n",
       "      <td>Dara</td>\n",
       "      <td>Wilcox</td>\n",
       "      <td>1</td>\n",
       "      <td>29-06-1996</td>\n",
       "      <td>Singapore</td>\n",
       "      <td>18-05-2011</td>\n",
       "      <td>Flight Attendance</td>\n",
       "      <td>Airhostess</td>\n",
       "      <td>1</td>\n",
       "      <td>Canada</td>\n",
       "    </tr>\n",
       "    <tr>\n",
       "      <th>11</th>\n",
       "      <td>97</td>\n",
       "      <td>SUF73DKV4QE</td>\n",
       "      <td>Dante</td>\n",
       "      <td>Hart</td>\n",
       "      <td>0</td>\n",
       "      <td>21-12-1999</td>\n",
       "      <td>Peru</td>\n",
       "      <td>22-02-2016</td>\n",
       "      <td>Pilot</td>\n",
       "      <td>Pilot</td>\n",
       "      <td>1</td>\n",
       "      <td>Europe</td>\n",
       "    </tr>\n",
       "  </tbody>\n",
       "</table>\n",
       "</div>"
      ],
      "text/plain": [
       "    EMP_ID     PASSPORT FIRSTNAME   LASTNAME  GENDER    BIRTHDAY  NATIONALITY  \\\n",
       "0        3  JUI65YBK7AF      Jada     Bender       0  28-05-1963     Pakistan   \n",
       "1        5  AZE20CSG4MU   Lillian      Reese       0  03-12-1982      Ukraine   \n",
       "2       23  NFH65BYM0VB    Armand       Horn       0  24-05-1987  Netherlands   \n",
       "3       29  CMK62UAD3VK     Rowan    Leonard       1  15-07-1974      Germany   \n",
       "4       33  EWD45RJW5YK    Carter  Velasquez       0  23-11-1967    Indonesia   \n",
       "5       34  BFS82MEY3CX     Selma       Bush       0  26-03-1972        Italy   \n",
       "6       50  MRC33GHJ2KW    Calvin      Roach       1  16-04-1999       Mexico   \n",
       "7       66  WKV12UQC6QF   Zachery  Valentine       0  04-06-1971  Philippines   \n",
       "8       80  EUC74ENE9ZK      Ryan       Rush       0  13-06-1998        Italy   \n",
       "9       93  UXL43IOW6OV  Honorato    Maxwell       1  09-03-1982       France   \n",
       "10      95  OUP31WOE2IE      Dara     Wilcox       1  29-06-1996    Singapore   \n",
       "11      97  SUF73DKV4QE     Dante       Hart       0  21-12-1999         Peru   \n",
       "\n",
       "         HIRED                  DEPT    POSITION  STATUS       REGION  \n",
       "0   11-02-2001                 Pilot       Pilot       1       Canada  \n",
       "1   19-05-2002       Flight Planning     Steward       1       Canada  \n",
       "2   19-06-2007  Aircraft Maintenance  Airhostess       1       Ocenia  \n",
       "3   27-03-2004  Aircraft Maintenance       Pilot       1       Ocenia  \n",
       "4   27-02-2005       Flight Planning       Pilot       1         APAC  \n",
       "5   10-10-2008     Flight Attendance  Airhostess       1          USA  \n",
       "6   18-03-2011     Flight Attendance     Steward       1       Europe  \n",
       "7   25-08-2011     Flight Attendance     Steward       1  Middle East  \n",
       "8   31-07-2019  Aircraft Maintenance       Pilot       1  Middle East  \n",
       "9   04-02-2017  Aircraft Maintenance  Airhostess       1       Europe  \n",
       "10  18-05-2011     Flight Attendance  Airhostess       1       Canada  \n",
       "11  22-02-2016                 Pilot       Pilot       1       Europe  "
      ]
     },
     "execution_count": 13,
     "metadata": {},
     "output_type": "execute_result"
    }
   ],
   "source": [
    "devclubDf"
   ]
  },
  {
   "cell_type": "code",
   "execution_count": 22,
   "metadata": {},
   "outputs": [
    {
     "data": {
      "text/plain": [
       "REGION\n",
       "APAC           1\n",
       "Canada         3\n",
       "Europe         3\n",
       "Middle East    2\n",
       "Ocenia         2\n",
       "USA            1\n",
       "Name: FIRSTNAME, dtype: int64"
      ]
     },
     "execution_count": 22,
     "metadata": {},
     "output_type": "execute_result"
    }
   ],
   "source": [
    "devclubDf.tail()\n",
    "devclubDf.groupby([\"REGION\"])[\"FIRSTNAME\"].count()"
   ]
  },
  {
   "cell_type": "code",
   "execution_count": 23,
   "metadata": {},
   "outputs": [
    {
     "data": {
      "text/plain": [
       "<AxesSubplot: ylabel='FIRSTNAME'>"
      ]
     },
     "execution_count": 23,
     "metadata": {},
     "output_type": "execute_result"
    },
    {
     "data": {
      "image/png": "[encoded data removed]",
      "text/plain": [
       "<Figure size 640x480 with 1 Axes>"
      ]
     },
     "metadata": {},
     "output_type": "display_data"
    }
   ],
   "source": [
    "devclubDf.groupby([\"REGION\"])[\"FIRSTNAME\"].count().plot.pie()"
   ]
  },
  {
   "cell_type": "code",
   "execution_count": 26,
   "metadata": {},
   "outputs": [
    {
     "data": {
      "text/plain": [
       "REGION       DEPT                  POSITION  \n",
       "APAC         Flight Planning       Pilot         1\n",
       "Canada       Flight Attendance     Airhostess    1\n",
       "             Flight Planning       Steward       1\n",
       "             Pilot                 Pilot         1\n",
       "Europe       Aircraft Maintenance  Airhostess    1\n",
       "             Flight Attendance     Steward       1\n",
       "             Pilot                 Pilot         1\n",
       "Middle East  Aircraft Maintenance  Pilot         1\n",
       "             Flight Attendance     Steward       1\n",
       "Ocenia       Aircraft Maintenance  Airhostess    1\n",
       "                                   Pilot         1\n",
       "USA          Flight Attendance     Airhostess    1\n",
       "Name: EMP_ID, dtype: int64"
      ]
     },
     "execution_count": 26,
     "metadata": {},
     "output_type": "execute_result"
    }
   ],
   "source": [
    "devclubDf.groupby([\"REGION\",\"DEPT\",\"POSITION\"])[\"EMP_ID\"].count()"
   ]
  }
 ],
 "metadata": {
  "interpreter": {
   "hash": "06079d375a6a47b6a3991051be0e49e8ec81df0a2afeca0345e31c4871bedff0"
  },
  "kernelspec": {
   "display_name": "Python 3.9.1 ('venv': venv)",
   "language": "python",
   "name": "python3"
  },
  "language_info": {
   "codemirror_mode": {
    "name": "ipython",
    "version": 3
   },
   "file_extension": ".py",
   "mimetype": "text/x-python",
   "name": "python",
   "nbconvert_exporter": "python",
   "pygments_lexer": "ipython3",
   "version": "3.9.1"
  },
  "orig_nbformat": 4
 },
 "nbformat": 4,
 "nbformat_minor": 2
}
